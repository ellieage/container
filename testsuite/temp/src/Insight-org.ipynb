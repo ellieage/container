{
 "cells": [
  {
   "cell_type": "markdown",
   "metadata": {},
   "source": [
    "Input file considerations\n",
    "\n",
    "Here are some considerations to keep in mind:\n",
    "\n",
    "1. Because we are only interested in individual contributions, we only want records that have the field, OTHER_ID, set to empty. If the OTHER_ID field contains any other value, ignore the entire record and don't include it in any calculation\n",
    "\n",
    "2. If TRANSACTION_DT is an invalid date (e.g., empty, malformed), you should still take the record into consideration when outputting the results of medianvals_by_zip.txt but completely ignore the record when calculating values for medianvals_by_date.txt\n",
    "\n",
    "3. While the data dictionary has the ZIP_CODE occupying nine characters, for the purposes of the challenge, we only consider the first five characters of the field as the zip code\n",
    "\n",
    "4. If ZIP_CODE is an invalid zipcode (i.e., empty, fewer than five digits), you should still take the record into consideration when outputting the results of medianvals_by_date.txt but completely ignore the record when calculating values for medianvals_by_zip.txt\n",
    "\n",
    "5. If any lines in the input file contains empty cells in the CMTE_ID or TRANSACTION_AMT fields, you should ignore and skip the record and not take it into consideration when making any calculations for the output files\n",
    "\n",
    "6. Except for the considerations noted above with respect to CMTE_ID, ZIP_CODE, TRANSACTION_DT, TRANSACTION_AMT, OTHER_ID, data in any of the other fields (whether the data is valid, malformed, or empty) should not affect your processing. That is, as long as the four previously noted considerations apply, you should process the record as if it was a valid, newly arriving transaction. (For instance, campaigns sometimes retransmit transactions as amendments, however, for the purposes of this challenge, you can ignore that distinction and treat all of the lines as if they were new)\n",
    "\n",
    "7. For the purposes of this challenge, you can assume the input file follows the data dictionary noted by the FEC for the 2015-current election years\n",
    "\n",
    "8. The transactions noted in the input file are not in any particular order, and in fact, can be out of order chronologically"
   ]
  },
  {
   "cell_type": "markdown",
   "metadata": {},
   "source": [
    "**medianvals_by_zip.txt**\n",
    "\n",
    "Each line of this file should contain these fields:\n",
    "\n",
    "- recipient of the contribution (or CMTE_ID from the input file)\n",
    "\n",
    "- 5-digit zip code of the contributor (or the first five characters of the ZIP_CODE field from the input file)\n",
    "\n",
    "- running median of contributions received by recipient from the contributor's zip code streamed in so far. Median calculations should be rounded to the whole dollar (drop anything below \\$.50 and round anything from \\$.50 and up to the next dollar)\n",
    "\n",
    "- total number of transactions received by recipient from the contributor's zip code streamed in so far\n",
    "\n",
    "- total amount of contributions received by recipient from the contributor's zip code streamed in so far"
   ]
  },
  {
   "cell_type": "code",
   "execution_count": 3,
   "metadata": {
    "collapsed": true
   },
   "outputs": [],
   "source": [
    "import statistics"
   ]
  },
  {
   "cell_type": "code",
   "execution_count": 108,
   "metadata": {},
   "outputs": [],
   "source": [
    "# file_input = 'example1/itcont.txt'\n",
    "# file_zip_output = \"example1/medianvals_by_zip.txt\"\n",
    "# file_date_output = \"example1/medianvals_by_date.txt\"\n",
    "\n",
    "file_input = 'example1/itcont.txt'\n",
    "file_zip_output = \"example1/medianvals_by_zip.txt\"\n",
    "file_date_output = \"example1/medianvals_by_date.txt\"\n",
    "\n",
    "\n",
    "class Insight:\n",
    "    def __init__(self):\n",
    "        medianvals_by_zip = open(file_zip_output,\"w+\")\n",
    "        medianvals_by_date = open(file_date_output,\"w+\")\n",
    "\n",
    "        # perhaps use only one master_d in the future, use these ones to check\n",
    "        master_d_zip = {}\n",
    "        master_d_date = {}\n",
    "\n",
    "        with open(file_input) as f:\n",
    "            for line in f:\n",
    "                mylist = line.split('|')  # this is always? of length 21\n",
    "                if (len(mylist)==21):\n",
    "                    d = {'CMTE_ID' : mylist[0], 'ZIP_CODE' : mylist[10][:5] # zip: first 5 digits only\n",
    "                        ,'TRANSACTION_DT' : mylist[13], 'TRANSACTION_AMT' : mylist[14], 'OTHER_ID' : mylist[15]} \n",
    "\n",
    "                    if (d['CMTE_ID']!='' and d['TRANSACTION_AMT']!='' and d['OTHER_ID']==''):\n",
    "                        # process this one (applies to both files)\n",
    "\n",
    "\n",
    "\n",
    "                        # zip - write as you read in\n",
    "                        if (is_zip(d['ZIP_CODE'])==True):\n",
    "                            master_d_zip.setdefault((d['CMTE_ID'],d['ZIP_CODE']), []).append(int(d['TRANSACTION_AMT']))\n",
    "                            medianvals_by_zip.write(''+d['CMTE_ID']+'|'+d['ZIP_CODE']+'|'+ str(round(statistics.median(master_d_zip[(d['CMTE_ID'],d['ZIP_CODE'])])))+ '|'\n",
    "                                                    +str(len(master_d_zip[(d['CMTE_ID'],d['ZIP_CODE'])]))+'|'\n",
    "                                                    +str(sum(master_d_zip[(d['CMTE_ID'],d['ZIP_CODE'])]))+'\\n')\n",
    "\n",
    "                        # date - wait to write\n",
    "                        if (is_date(d['TRANSACTION_DT'])==True):\n",
    "\n",
    "                            master_d_date.setdefault((d['CMTE_ID'],d['TRANSACTION_DT']), []).append(int(d['TRANSACTION_AMT']))\n",
    "     \n",
    "        # write date files\n",
    "        # sorted alphabetical by recipient and then chronologically by date.\n",
    "\n",
    "\n",
    "        for d in sorted(master_d_date):\n",
    "\n",
    "            medianvals_by_date.write(''+d[0]+'|'+d[1]+'|'+str(round(statistics.median(master_d_date[d]))) + '|' \n",
    "                                     + str(len(master_d_date[d]))+'|'\n",
    "                                     + str(sum(master_d_date[d]))+'\\n')\n",
    "\n",
    "\n",
    "\n",
    "    # Checks if value is a date; False if:  empty, malformed\n",
    "    def is_date(s):\n",
    "        try:\n",
    "            int(s)\n",
    "            return (len(str(s))==8)\n",
    "        except ValueError:\n",
    "            pass\n",
    "\n",
    "        return False\n",
    "\n",
    "    # Checks if value is a zip code; False if: empty, fewer than five digits\n",
    "    def is_zip(s):\n",
    "        try:\n",
    "            int(s)\n",
    "            return (len(str(s))>=5)\n",
    "        except ValueError:\n",
    "            pass\n",
    "\n",
    "        return False\n",
    "\n"
   ]
  },
  {
   "cell_type": "code",
   "execution_count": 109,
   "metadata": {
    "collapsed": true
   },
   "outputs": [],
   "source": [
    "my_Insight = Insight()"
   ]
  },
  {
   "cell_type": "code",
   "execution_count": null,
   "metadata": {
    "collapsed": true
   },
   "outputs": [],
   "source": []
  }
 ],
 "metadata": {
  "kernelspec": {
   "display_name": "Python 3",
   "language": "python",
   "name": "python3"
  },
  "language_info": {
   "codemirror_mode": {
    "name": "ipython",
    "version": 3
   },
   "file_extension": ".py",
   "mimetype": "text/x-python",
   "name": "python",
   "nbconvert_exporter": "python",
   "pygments_lexer": "ipython3",
   "version": "3.6.1"
  }
 },
 "nbformat": 4,
 "nbformat_minor": 2
}
