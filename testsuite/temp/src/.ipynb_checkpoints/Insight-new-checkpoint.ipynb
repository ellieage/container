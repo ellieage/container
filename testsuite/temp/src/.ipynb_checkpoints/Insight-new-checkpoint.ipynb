{
 "cells": [
  {
   "cell_type": "markdown",
   "metadata": {},
   "source": [
    "Input file considerations\n",
    "\n",
    "Here are some considerations to keep in mind:\n",
    "\n",
    "1. Because we are only interested in individual contributions, we only want records that have the field, OTHER_ID, set to empty. If the OTHER_ID field contains any other value, ignore the entire record and don't include it in any calculation\n",
    "\n",
    "2. If TRANSACTION_DT is an invalid date (e.g., empty, malformed), you should still take the record into consideration when outputting the results of medianvals_by_zip.txt but completely ignore the record when calculating values for medianvals_by_date.txt\n",
    "\n",
    "3. While the data dictionary has the ZIP_CODE occupying nine characters, for the purposes of the challenge, we only consider the first five characters of the field as the zip code\n",
    "\n",
    "4. If ZIP_CODE is an invalid zipcode (i.e., empty, fewer than five digits), you should still take the record into consideration when outputting the results of medianvals_by_date.txt but completely ignore the record when calculating values for medianvals_by_zip.txt\n",
    "\n",
    "5. If any lines in the input file contains empty cells in the CMTE_ID or TRANSACTION_AMT fields, you should ignore and skip the record and not take it into consideration when making any calculations for the output files\n",
    "\n",
    "6. Except for the considerations noted above with respect to CMTE_ID, ZIP_CODE, TRANSACTION_DT, TRANSACTION_AMT, OTHER_ID, data in any of the other fields (whether the data is valid, malformed, or empty) should not affect your processing. That is, as long as the four previously noted considerations apply, you should process the record as if it was a valid, newly arriving transaction. (For instance, campaigns sometimes retransmit transactions as amendments, however, for the purposes of this challenge, you can ignore that distinction and treat all of the lines as if they were new)\n",
    "\n",
    "7. For the purposes of this challenge, you can assume the input file follows the data dictionary noted by the FEC for the 2015-current election years\n",
    "\n",
    "8. The transactions noted in the input file are not in any particular order, and in fact, can be out of order chronologically"
   ]
  },
  {
   "cell_type": "markdown",
   "metadata": {},
   "source": [
    "**medianvals_by_zip.txt**\n",
    "\n",
    "Each line of this file should contain these fields:\n",
    "\n",
    "- recipient of the contribution (or CMTE_ID from the input file)\n",
    "\n",
    "- 5-digit zip code of the contributor (or the first five characters of the ZIP_CODE field from the input file)\n",
    "\n",
    "- running median of contributions received by recipient from the contributor's zip code streamed in so far. Median calculations should be rounded to the whole dollar (drop anything below \\$.50 and round anything from \\$.50 and up to the next dollar)\n",
    "\n",
    "- total number of transactions received by recipient from the contributor's zip code streamed in so far\n",
    "\n",
    "- total amount of contributions received by recipient from the contributor's zip code streamed in so far"
   ]
  },
  {
   "cell_type": "code",
   "execution_count": 6,
   "metadata": {
    "collapsed": true
   },
   "outputs": [],
   "source": [
    "import statistics"
   ]
  },
  {
   "cell_type": "code",
   "execution_count": 178,
   "metadata": {},
   "outputs": [],
   "source": [
    "# file_input = 'example1/itcont.txt'\n",
    "# file_zip_output = \"example1/medianvals_by_zip.txt\"\n",
    "# file_date_output = \"example1/medianvals_by_date.txt\"\n",
    "\n",
    "file_input = 'example1/itcont.txt'\n",
    "file_zip_output = \"example1/medianvals_by_zip.txt\"\n",
    "file_date_output = \"example1/medianvals_by_date.txt\"\n",
    "\n",
    "\n",
    "# Checks if value is a date; False if:  empty, malformed\n",
    "def is_date(s):\n",
    "    try:\n",
    "        int(s)\n",
    "        return (len(str(s))==8)\n",
    "    except ValueError:\n",
    "        pass\n",
    "\n",
    "    return False\n",
    "\n",
    "# Checks if value is a zip code; False if: empty, fewer than five digits\n",
    "def is_zip(s):\n",
    "    try:\n",
    "        int(s)\n",
    "        return (len(str(s))>=5)\n",
    "    except ValueError:\n",
    "        pass\n",
    "\n",
    "    return False\n",
    "\n",
    "def search(lst, target):\n",
    "    min = 0\n",
    "    max = len(lst)\n",
    "    avg = int((min+max)/2)\n",
    "    print (lst, target, avg , (min,max)) \n",
    "    while (min < max):\n",
    "        if (lst[avg] == target):\n",
    "            return avg\n",
    "        elif (lst[avg] < target):\n",
    "            print(lst[avg], ' < ', target, ' avg = ', avg, 'min, max : ', min, max)\n",
    "            return avg + 1 + search(lst[avg+1:], target)\n",
    "        else:\n",
    "            print(lst[avg], ' > ', target, ' avg = ', avg, 'min, max : ', min, max)\n",
    "            return search(lst[:avg], target)\n",
    "\n",
    "    return avg\n",
    "\n",
    "\n",
    "\n",
    "class Insight:\n",
    "    def __init__(self):\n",
    "        medianvals_by_zip = open(file_zip_output,\"w+\")\n",
    "        medianvals_by_date = open(file_date_output,\"w+\")\n",
    "\n",
    "        # perhaps use only one master_d in the future, use these ones to check\n",
    "        master_d_zip = {}\n",
    "        master_l_date = []\n",
    "        d_date = {}\n",
    "        \n",
    "        with open(file_input) as f:\n",
    "            for line in f:\n",
    "                mylist = line.split('|')  # this is always? of length 21\n",
    "                if (len(mylist)==21):\n",
    "                    d = {'CMTE_ID' : mylist[0], 'ZIP_CODE' : mylist[10][:5] # zip: first 5 digits only\n",
    "                        ,'TRANSACTION_DT' : mylist[13], 'TRANSACTION_AMT' : mylist[14], 'OTHER_ID' : mylist[15]} \n",
    "\n",
    "                    if (d['CMTE_ID']!='' and d['TRANSACTION_AMT']!='' and d['OTHER_ID']==''):\n",
    "                        # process this one (applies to both files)\n",
    "\n",
    "\n",
    "\n",
    "                        # zip - write as you read in\n",
    "                        if (is_zip(d['ZIP_CODE'])==True):\n",
    "                            master_d_zip.setdefault((d['CMTE_ID'],d['ZIP_CODE']), []).append(int(d['TRANSACTION_AMT']))\n",
    "                            medianvals_by_zip.write(''+d['CMTE_ID']+'|'+d['ZIP_CODE']+'|'+ str(round(statistics.median(master_d_zip[(d['CMTE_ID'],d['ZIP_CODE'])])))+ '|'\n",
    "                                                    +str(len(master_d_zip[(d['CMTE_ID'],d['ZIP_CODE'])]))+'|'\n",
    "                                                    +str(sum(master_d_zip[(d['CMTE_ID'],d['ZIP_CODE'])]))+'\\n')\n",
    "\n",
    "                        # date - wait to write\n",
    "                        if (is_date(d['TRANSACTION_DT'])==True):\n",
    "                            # check which position to insert in the list, then insert.\n",
    "#                             master_l_date = [('A', '2')]\n",
    "#                             d_date = {('A', '2'): [21]}\n",
    "                            spot = search(master_l_date,(d['CMTE_ID'],d['TRANSACTION_DT']))\n",
    "                            print('search result: ', spot)\n",
    "                            \n",
    "                            if spot==len(master_l_date):\n",
    "                                master_l_date.append((d['CMTE_ID'],d['TRANSACTION_DT']))\n",
    "                                d_date[(d['CMTE_ID'],d['TRANSACTION_DT'])]=[int(d['TRANSACTION_AMT'])]\n",
    "                                print('add to end of list', master_l_date, d_date)\n",
    "                                \n",
    "                            elif (master_l_date[spot] == (d['CMTE_ID'],d['TRANSACTION_DT'])):\n",
    "                                d_date[(d['CMTE_ID'],d['TRANSACTION_DT'])].append(int(d['TRANSACTION_AMT']))\n",
    "                                print ('Already in the list',(d['CMTE_ID'],d['TRANSACTION_DT']), '\\n', d_date)\n",
    "                            else:\n",
    "                                master_l_date.insert(spot, (d['CMTE_ID'],d['TRANSACTION_DT'])) \n",
    "                                d_date[(d['CMTE_ID'],d['TRANSACTION_DT'])]=[int(d['TRANSACTION_AMT'])]\n",
    "                                print('insert into list at position: ', spot)\n",
    "#                                     min = max\n",
    "#                                 elif (master_l_date[avg][0] < (d['CMTE_ID'],d['TRANSACTION_DT'])):\n",
    "#                                     master_l_date.insert(avg,[(d['CMTE_ID'],d['TRANSACTION_DT']),[int(d['TRANSACTION_AMT'])]])avg + 1 + search(lst[avg+1:], target)\n",
    "# #                             else:\n",
    "# #                               return search(lst[:avg], target)\n",
    "\n",
    "                            # avg may be a partial offset so no need to print it here\n",
    "                            # print \"The location of the number in the array is\", avg \n",
    "#                             return avg\n",
    "#                             search(master_l_date,(d['CMTE_ID'],d['TRANSACTION_DT']))\n",
    "#                               \n",
    "#                             master_l_date.setdefault((d['CMTE_ID'],d['TRANSACTION_DT']), []).append(int(d['TRANSACTION_AMT']))\n",
    "     \n",
    "        # write date files\n",
    "        # sorted alphabetical by recipient and then chronologically by date.\n",
    "\n",
    "\n",
    "        for i in range(0,len(master_l_date)):\n",
    "            medianvals_by_date.write(''+str(master_l_date[i][0])+'|'+str(master_l_date[i][1])+'|'\n",
    "                                     +str(round(statistics.median(d_date[master_l_date[i]])))+'|'\n",
    "                                     +str(len(d_date[master_l_date[i]])))+'|'\n",
    "                                     #+ str(len(master_d_date[d]))+'|'\n",
    "                                     #+ str(sum(master_d_date[d]))\n",
    "                                     +'\\n')\n",
    "\n",
    "#             medianvals_by_date.write(''+d[0]+'|'+d[1]+'|'+str(round(statistics.median(master_d_date[d]))) + '|' \n",
    "#                                      + str(len(master_d_date[d]))+'|'\n",
    "#                                      + str(sum(master_d_date[d]))+'\\n')\n",
    "\n",
    "\n",
    "\n"
   ]
  },
  {
   "cell_type": "code",
   "execution_count": 179,
   "metadata": {},
   "outputs": [
    {
     "name": "stdout",
     "output_type": "stream",
     "text": [
      "[] ('C00177436', '01312017') 0 (0, 0)\n",
      "search result:  0\n",
      "add to end of list [('C00177436', '01312017')] {('C00177436', '01312017'): [384]}\n",
      "[('C00177436', '01312017')] ('C00384818', '01122017') 0 (0, 1)\n",
      "('C00177436', '01312017')  <  ('C00384818', '01122017')  avg =  0 min, max :  0 1\n",
      "[] ('C00384818', '01122017') 0 (0, 0)\n",
      "search result:  1\n",
      "add to end of list [('C00177436', '01312017'), ('C00384818', '01122017')] {('C00177436', '01312017'): [384], ('C00384818', '01122017'): [250]}\n",
      "[('C00177436', '01312017'), ('C00384818', '01122017')] ('C00177436', '01312017') 1 (0, 2)\n",
      "('C00384818', '01122017')  >  ('C00177436', '01312017')  avg =  1 min, max :  0 2\n",
      "[('C00177436', '01312017')] ('C00177436', '01312017') 0 (0, 1)\n",
      "search result:  0\n",
      "Already in the list ('C00177436', '01312017') \n",
      " {('C00177436', '01312017'): [384, 230], ('C00384818', '01122017'): [250]}\n",
      "[('C00177436', '01312017'), ('C00384818', '01122017')] ('C00177436', '01312017') 1 (0, 2)\n",
      "('C00384818', '01122017')  >  ('C00177436', '01312017')  avg =  1 min, max :  0 2\n",
      "[('C00177436', '01312017')] ('C00177436', '01312017') 0 (0, 1)\n",
      "search result:  0\n",
      "Already in the list ('C00177436', '01312017') \n",
      " {('C00177436', '01312017'): [384, 230, 384], ('C00384818', '01122017'): [250]}\n",
      "[('C00177436', '01312017'), ('C00384818', '01122017')] ('C00384818', '01122017') 1 (0, 2)\n",
      "search result:  1\n",
      "Already in the list ('C00384818', '01122017') \n",
      " {('C00177436', '01312017'): [384, 230, 384], ('C00384818', '01122017'): [250, 333]}\n",
      "[('C00177436', '01312017'), ('C00384818', '01122017')] ('C00177436', '01312017') 1 (0, 2)\n",
      "('C00384818', '01122017')  >  ('C00177436', '01312017')  avg =  1 min, max :  0 2\n",
      "[('C00177436', '01312017')] ('C00177436', '01312017') 0 (0, 1)\n",
      "search result:  0\n",
      "Already in the list ('C00177436', '01312017') \n",
      " {('C00177436', '01312017'): [384, 230, 384, 384], ('C00384818', '01122017'): [250, 333]}\n"
     ]
    }
   ],
   "source": [
    "my_Insight = Insight()"
   ]
  },
  {
   "cell_type": "code",
   "execution_count": null,
   "metadata": {
    "collapsed": true
   },
   "outputs": [],
   "source": []
  },
  {
   "cell_type": "code",
   "execution_count": 155,
   "metadata": {},
   "outputs": [
    {
     "name": "stdout",
     "output_type": "stream",
     "text": [
      "[('A', '2')] ('C', '3') 0 (0, 1)\n",
      "('A', '2')  <  ('C', '3')  avg =  0 min, max :  0 1\n",
      "[] ('C', '3') 0 (0, 0)\n"
     ]
    },
    {
     "data": {
      "text/plain": [
       "1"
      ]
     },
     "execution_count": 155,
     "metadata": {},
     "output_type": "execute_result"
    }
   ],
   "source": [
    "l = [('A', '2')]\n",
    "t = ('C','3')\n",
    "search(l,t)"
   ]
  },
  {
   "cell_type": "code",
   "execution_count": 85,
   "metadata": {},
   "outputs": [
    {
     "data": {
      "text/plain": [
       "2"
      ]
     },
     "execution_count": 85,
     "metadata": {},
     "output_type": "execute_result"
    }
   ],
   "source": [
    "int(2.5)"
   ]
  },
  {
   "cell_type": "code",
   "execution_count": 101,
   "metadata": {},
   "outputs": [],
   "source": [
    "# def search(lst, target):\n",
    "#     min = 0\n",
    "#     max = len(lst)-1\n",
    "#     avg = int(round((min+max)/2))\n",
    "#     # uncomment next line for traces\n",
    "#     print (lst, target, avg ) \n",
    "#     while (min < max-1):\n",
    "#         if (lst[avg] == target):\n",
    "#             print('equal')\n",
    "#             return (avg,True)\n",
    "#         elif (lst[avg] < target):\n",
    "#             print(lst[avg], ' < ', target, ' avg = ', avg, 'min, max : ', min, max)\n",
    "#             min = avg\n",
    "#             avg = int((min+max)/2)\n",
    "#             print(' avg = ', avg, 'min, max : ', min, max)\n",
    "#         else: \n",
    "#             print(lst[avg], ' > ', target, ' avg = ', avg, 'min, max : ', min, max)\n",
    "#             max = avg\n",
    "#             avg = int((min+max)/2)\n",
    "#             print(' avg = ', avg, 'min, max : ', min, max)            \n",
    "#     return (avg,False)\n"
   ]
  },
  {
   "cell_type": "code",
   "execution_count": 111,
   "metadata": {
    "collapsed": true
   },
   "outputs": [],
   "source": [
    "def search(lst, target):\n",
    "    min = 0\n",
    "    max = len(lst)\n",
    "    avg = int((min+max)/2)\n",
    "    print (lst, target, avg , (min,max)) \n",
    "    while (min < max):\n",
    "        if (lst[avg] == target):\n",
    "            return avg\n",
    "        elif (lst[avg] < target):\n",
    "            print(lst[avg], ' < ', target, ' avg = ', avg, 'min, max : ', min, max)\n",
    "            return avg + 1 + search(lst[avg+1:], target)\n",
    "        else:\n",
    "            print(lst[avg], ' > ', target, ' avg = ', avg, 'min, max : ', min, max)\n",
    "            return search(lst[:avg], target)\n",
    "\n",
    "    return avg\n"
   ]
  },
  {
   "cell_type": "code",
   "execution_count": 154,
   "metadata": {},
   "outputs": [
    {
     "name": "stdout",
     "output_type": "stream",
     "text": [
      "[1, 2, 4, 8, 12, 13] 2 3 (0, 6)\n",
      "8  >  2  avg =  3 min, max :  0 6\n",
      "[1, 2, 4] 2 1 (0, 3)\n",
      "1\n",
      "Want:  2\n"
     ]
    }
   ],
   "source": [
    "l = [1,2,4,8,12,13]\n",
    "# print(len(l))\n",
    "# print(l[6])\n",
    "t = 2\n",
    "print(search(l, t))\n",
    "print('Want: ', 2)"
   ]
  },
  {
   "cell_type": "code",
   "execution_count": 147,
   "metadata": {},
   "outputs": [
    {
     "name": "stdout",
     "output_type": "stream",
     "text": [
      "[] 4 0 (0, 0)\n",
      "0\n",
      "Want:  0\n"
     ]
    }
   ],
   "source": [
    "l = []\n",
    "t = 4\n",
    "print(search(l,t))\n",
    "print('Want: ', 0)"
   ]
  },
  {
   "cell_type": "code",
   "execution_count": null,
   "metadata": {
    "collapsed": true
   },
   "outputs": [],
   "source": []
  },
  {
   "cell_type": "code",
   "execution_count": 114,
   "metadata": {},
   "outputs": [
    {
     "name": "stdout",
     "output_type": "stream",
     "text": [
      "[('C00177435', '01312017'), ('C00177435', '01312017')] ('C00177436', '01312017') 1 (0, 2)\n",
      "('C00177435', '01312017')  <  ('C00177436', '01312017')  avg =  1 min, max :  0 2\n",
      "[] ('C00177436', '01312017') 0 (0, 0)\n"
     ]
    },
    {
     "data": {
      "text/plain": [
       "2"
      ]
     },
     "execution_count": 114,
     "metadata": {},
     "output_type": "execute_result"
    }
   ],
   "source": [
    "search ([('C00177435', '01312017'),('C00177435', '01312017')], ('C00177436', '01312017'))"
   ]
  },
  {
   "cell_type": "code",
   "execution_count": 115,
   "metadata": {},
   "outputs": [
    {
     "name": "stdout",
     "output_type": "stream",
     "text": [
      "[('C00177435', '1'), ('C00177439', '1')] ('C00177436', '1') 1 (0, 2)\n",
      "('C00177439', '1')  >  ('C00177436', '1')  avg =  1 min, max :  0 2\n",
      "[('C00177435', '1')] ('C00177436', '1') 0 (0, 1)\n",
      "('C00177435', '1')  <  ('C00177436', '1')  avg =  0 min, max :  0 1\n",
      "[] ('C00177436', '1') 0 (0, 0)\n"
     ]
    },
    {
     "data": {
      "text/plain": [
       "1"
      ]
     },
     "execution_count": 115,
     "metadata": {},
     "output_type": "execute_result"
    }
   ],
   "source": [
    "search([('C00177435','1'),('C00177439','1')],('C00177436','1'))"
   ]
  },
  {
   "cell_type": "code",
   "execution_count": 116,
   "metadata": {},
   "outputs": [
    {
     "name": "stdout",
     "output_type": "stream",
     "text": [
      "[('1', '1', [2]), ('1', '4', [1, 3]), ('3', '1', []), ('5', '5', [])] ('2', '3') 2 (0, 4)\n",
      "('3', '1', [])  >  ('2', '3')  avg =  2 min, max :  0 4\n",
      "[('1', '1', [2]), ('1', '4', [1, 3])] ('2', '3') 1 (0, 2)\n",
      "('1', '4', [1, 3])  <  ('2', '3')  avg =  1 min, max :  0 2\n",
      "[] ('2', '3') 0 (0, 0)\n",
      "2\n",
      "Want:  2\n"
     ]
    }
   ],
   "source": [
    "l = [('1','1',[2]),('1','4',[1,3]), ('3','1',[]), ('5','5',[])]\n",
    "t = ('2','3')\n",
    "print(search(l, t))\n",
    "print('Want: ', 2)\n"
   ]
  },
  {
   "cell_type": "code",
   "execution_count": null,
   "metadata": {
    "collapsed": true
   },
   "outputs": [],
   "source": []
  },
  {
   "cell_type": "code",
   "execution_count": null,
   "metadata": {
    "collapsed": true
   },
   "outputs": [],
   "source": []
  }
 ],
 "metadata": {
  "kernelspec": {
   "display_name": "Python 3",
   "language": "python",
   "name": "python3"
  },
  "language_info": {
   "codemirror_mode": {
    "name": "ipython",
    "version": 3
   },
   "file_extension": ".py",
   "mimetype": "text/x-python",
   "name": "python",
   "nbconvert_exporter": "python",
   "pygments_lexer": "ipython3",
   "version": "3.6.1"
  }
 },
 "nbformat": 4,
 "nbformat_minor": 2
}
