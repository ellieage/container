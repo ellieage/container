{
 "cells": [
  {
   "cell_type": "markdown",
   "metadata": {},
   "source": [
    "## The Perfect Fit\n",
    "**A container problem solved.**\n",
    "\n",
    "The containerstore.com has a large selection of containers, but does not provide a search option to specify the size of the container.  The Container class allows you to scrape the all the current storage data from the container store website storing the name, dimensions, image, and url for each piece.  There are functions to reorganize the data.  Then you can search the containers for the type, size, and/or price that you would like.\n"
   ]
  },
  {
   "cell_type": "code",
   "execution_count": 1,
   "metadata": {
    "collapsed": true
   },
   "outputs": [],
   "source": [
    "import scrapy\n",
    "import json\n",
    "from pprint import pprint\n",
    "import subprocess\n",
    "from fractions import Fraction\n",
    "from collections import Counter \n",
    "import datetime\n"
   ]
  },
  {
   "cell_type": "code",
   "execution_count": 2,
   "metadata": {
    "collapsed": true
   },
   "outputs": [],
   "source": [
    "class Container:\n",
    "    def __init__(self):\n",
    "        pass\n",
    "    \n",
    "    def update_json(self, scrapy_name='container', json_file_name='container.json'):\n",
    "        subprocess.run([\"rm\",json_file_name])\n",
    "        subprocess.run([\"scrapy\", \"crawl\", scrapy_name, \"-o\", json_file_name])\n",
    "        print('updated on',datetime.date.today())\n",
    "\n",
    "    def load_json(self, json_file_name='container.json'):\n",
    "        with open(json_file_name) as data_file:    \n",
    "            self.data = json.load(data_file)\n",
    "\n",
    "    def create_category(self):\n",
    "        for d in self.data:\n",
    "            category = d['url'].split('/')[5]\n",
    "            d['category']=category\n",
    "        self.c = Counter()\n",
    "        for d in self.data:\n",
    "            self.c[d['category']] += 1\n",
    "    \n",
    "    \n",
    "    def create_new_dimensions(self):\n",
    "        \n",
    "        # loop through the container links\n",
    "        for j in range (0,len(self.data)):\n",
    "            self.data[j]['new dimensions']=[]\n",
    "            # many container links have containers available in several different sizes, so we roam through each one\n",
    "            for k in range(0,len(self.data[j]['dimensions'])):\n",
    "                dim_no_whitespace = self.data[j]['dimensions'][k].strip()\n",
    "                if (dim_no_whitespace != \"\"):\n",
    "                    mydim = self.data[j]['dimensions'][k].split('x')\n",
    "                    newdim = []\n",
    "                    # each dimension of the container needs to be converted to a float and added to 'new dimensions'\n",
    "                    for i in range (0,len(mydim)):\n",
    "                        mysplit = mydim[i].split('sq.')[0]\n",
    "                        if '-' in mysplit:\n",
    "                            this_split = mysplit.split('-')\n",
    "                            num =0\n",
    "                            for p in this_split:\n",
    "                                num += float(Fraction(p.split('\"')[0]))\n",
    "                        else:\n",
    "                            num = float(Fraction(mysplit.split('\"')[0]))\n",
    "                        # if the entry notes that it is square or a diameter, then the dimension needs to be inserted in two spots            \n",
    "                        double=int(('sq.' in mydim[i]) or ('diam.' in mydim[i]))\n",
    "                        for _ in range(0,double+1):\n",
    "                            newdim.append(num)\n",
    "                    self.data[j]['new dimensions'].append(newdim)\n",
    "\n",
    "    def organize_new_dimensions(self):\n",
    "        self.dimensions = [[],[],[],[]] #stores zero, one, two, three dimensions\n",
    "        for j in range(0,len(self.data)):\n",
    "            if((self.data[j]['new dimensions'])==[]):\n",
    "                self.dimensions[0].append([self.data[j],k]) \n",
    "            num_of_containers  = len(self.data[j]['new dimensions'])\n",
    "            for k in range(0,num_of_containers):\n",
    "                num_dim = len(self.data[j]['new dimensions'][k])\n",
    "                \n",
    "                \n",
    "                #save the container and the spot that has these particular dimensions\n",
    "                self.dimensions[num_dim].append([self.data[j],k]) \n",
    "\n",
    "                \n",
    "\n",
    "        \n",
    "\n",
    "    #  The the_perfect_fit function will be given 6 values, 2 for each dimension (a lower and upper limit).  \n",
    "    #  It returns the possible containers.\n",
    "    \n",
    "    \n",
    "    def the_perfect_fit2(self,f1a,f1b,f2a,f2b,f3a,f3b):\n",
    "\n",
    "        possibles = [[],[],[],[]]\n",
    "\n",
    "        possibles[0]=self.dimensions[0]\n",
    "        for d in self.dimensions[1]:\n",
    "            if ((f1a<d[0]['new dimensions'][d[1]][0]<f1b) or (f2a<d[0]['new dimensions'][d[1]][0]<f2b) \n",
    "               or (f3a<d[0]['new dimensions'][d[1]][0]<f3b)):\n",
    "                \n",
    "                possibles[1].append(d)\n",
    "\n",
    "        for d in self.dimensions[2]:\n",
    "            if ( (f1a < d[0]['new dimensions'][d[1]][0] < f1b)  and (f2a < d[0]['new dimensions'][d[1]][1] < f2b) ):\n",
    "                \n",
    "                possibles[2].append(d)\n",
    "\n",
    "        for d in self.dimensions[3]:\n",
    "            if ((f1a<d[0]['new dimensions'][d[1]][0]<f1b) and (f2a<d[0]['new dimensions'][d[1]][1]<f2b) \n",
    "                and (f3a<d[0]['new dimensions'][d[1]][2]<f3b)):\n",
    "                \n",
    "                possibles[3].append(d)\n",
    "            \n",
    "\n",
    "        return possibles\n",
    "    "
   ]
  },
  {
   "cell_type": "code",
   "execution_count": 9,
   "metadata": {},
   "outputs": [
    {
     "name": "stdout",
     "output_type": "stream",
     "text": [
      "updated on 2017-07-30\n",
      "\n",
      "We found 659 total types of containers.\n",
      "\n",
      "[('decorative-bins-baskets', 210), ('stacking-storage', 111), ('storage-drawers', 72), ('storage-bags-totes', 55), ('plastic-bins-baskets', 53), ('modular-storage', 46), ('serving-trays', 41), ('garage-storage-boxes', 23), ('storage-benches-seats', 22), ('smart-store', 16), ('trunks', 10)]\n"
     ]
    }
   ],
   "source": [
    "my_c = Container()\n",
    "# my_c.update_json() \n",
    "my_c.load_json('container.json')\n",
    "print('')\n",
    "print('We found',len(my_c.data), 'total types of containers.')    \n",
    "print('')\n",
    "\n",
    "my_c.create_category()\n",
    "print(my_c.c.most_common())"
   ]
  },
  {
   "cell_type": "code",
   "execution_count": 10,
   "metadata": {
    "collapsed": true
   },
   "outputs": [],
   "source": [
    "my_c.create_category()\n",
    "my_c.create_new_dimensions()\n",
    "my_c.organize_new_dimensions()"
   ]
  },
  {
   "cell_type": "code",
   "execution_count": 11,
   "metadata": {},
   "outputs": [
    {
     "name": "stdout",
     "output_type": "stream",
     "text": [
      "There are 9 with no dimensions found, 27 with one dimension found, 58 with two dimensions found, and 1147 with three dimensions found.\n"
     ]
    }
   ],
   "source": [
    "print('There are', len(my_c.dimensions[0]), 'with no dimensions found,',\n",
    "      len(my_c.dimensions[1]), 'with one dimension found,', \n",
    "      len(my_c.dimensions[2]), 'with two dimensions found, and', \n",
    "      len(my_c.dimensions[3]), 'with three dimensions found.')"
   ]
  },
  {
   "cell_type": "code",
   "execution_count": null,
   "metadata": {
    "collapsed": true
   },
   "outputs": [],
   "source": []
  },
  {
   "cell_type": "code",
   "execution_count": null,
   "metadata": {
    "collapsed": true
   },
   "outputs": [],
   "source": []
  },
  {
   "cell_type": "code",
   "execution_count": null,
   "metadata": {
    "collapsed": true
   },
   "outputs": [],
   "source": []
  },
  {
   "cell_type": "code",
   "execution_count": null,
   "metadata": {
    "collapsed": true
   },
   "outputs": [],
   "source": []
  },
  {
   "cell_type": "markdown",
   "metadata": {},
   "source": [
    "The container that I am looking for should be in the range of 6-8.25\" x 9-12\" x 5-7\""
   ]
  },
  {
   "cell_type": "code",
   "execution_count": 18,
   "metadata": {
    "scrolled": false
   },
   "outputs": [
    {
     "name": "stdout",
     "output_type": "stream",
     "text": [
      "There are 8 containers that will fit your space:\n",
      "\n",
      "\n",
      "Clear Handled Storage Baskets , 'plastic-bins-baskets'\n",
      "https://www.containerstore.com/s/storage/plastic-bins-baskets/clear-handled-storage-baskets/12d?productId=10022155\n",
      "6-1/4\" x 11\" x 5-1/8\" h\n",
      "$3.99\n",
      "\n",
      "White Handled Storage Baskets , 'plastic-bins-baskets'\n",
      "https://www.containerstore.com/s/storage/plastic-bins-baskets/white-handled-storage-baskets/12d?productId=10036528\n",
      "6-1/4\" x 11\" x 5-1/8\" h\n",
      "$3.99\n",
      "\n",
      "Linus Storage Binz , 'plastic-bins-baskets'\n",
      "https://www.containerstore.com/s/storage/plastic-bins-baskets/linus-storage-binz/12d?productId=11000989\n",
      "8\" x 11-1/4\" x 6\" h\n",
      "$16.99\n",
      "\n",
      "Mondrian Storage Boxes with Lids , 'plastic-bins-baskets'\n",
      "https://www.containerstore.com/s/storage/plastic-bins-baskets/mondrian-storage-boxes-with-lids/12d?productId=10036979\n",
      "7\" x 10-5/8\" x 5-3/8\" h\n",
      "$6.99\n",
      "\n",
      "Small Rectangular Hogla Storage Bin with Handles , 'decorative-bins-baskets'\n",
      "https://www.containerstore.com/s/storage/decorative-bins-baskets/small-rectangular-hogla-storage-bin-with-handles/12d?productId=10035370\n",
      "7\" x 11\" x 5-1/4\" h\n",
      "$8.99\n",
      "\n",
      "Mondrian Storage Boxes with Lids , 'decorative-bins-baskets'\n",
      "https://www.containerstore.com/s/storage/decorative-bins-baskets/mondrian-storage-boxes-with-lids/12d?productId=10036979\n",
      "7\" x 10-5/8\" x 5-3/8\" h\n",
      "$6.99\n",
      "\n",
      "Rectangular Hogla Storage Bin with Lid , 'decorative-bins-baskets'\n",
      "https://www.containerstore.com/s/storage/decorative-bins-baskets/rectangular-hogla-storage-bin-with-lid/12d?productId=11003202\n",
      "7\" x 11\" x 5-1/4\" h\n",
      "$10.99\n",
      "\n",
      "Blackwash Rattan Storage Bins with Handles , 'decorative-bins-baskets'\n",
      "https://www.containerstore.com/s/storage/decorative-bins-baskets/blackwash-rattan-storage-bins-with-handles/12d?productId=10037634\n",
      "7-1/4\" x 11\" x 5-1/2\" h\n",
      "$19.99\n",
      "\n",
      "\n",
      "There are 0 containers that might fit your space, that have only 2 dimensions given:\n",
      "\n",
      "\n",
      "There are 9 containers that without any dimensions given.  Feel free to see if any of these may work for your needs:\n",
      "\n",
      "White Compact Plastic Bins 4-Pack with White Lids , 'plastic-bins-baskets'\n",
      "https://www.containerstore.com/s/storage/plastic-bins-baskets/white-compact-plastic-bins-4-pack-with-white-lids/12d?productId=11006211\n",
      "\n",
      "White Compact Plastic Bins 4-Pack with Grey Lids , 'plastic-bins-baskets'\n",
      "https://www.containerstore.com/s/storage/plastic-bins-baskets/white-compact-plastic-bins-4-pack-with-grey-lids/12d?productId=11006520\n",
      "\n",
      "White Compact Plastic Bins 4-Pack with Grey Lids , 'modular-storage'\n",
      "https://www.containerstore.com/s/storage/modular-storage/white-compact-plastic-bins-4-pack-with-grey-lids/12d?productId=11006520\n",
      "\n",
      "White Compact Plastic Bins 4-Pack with White Lids , 'modular-storage'\n",
      "https://www.containerstore.com/s/storage/modular-storage/white-compact-plastic-bins-4-pack-with-white-lids/12d?productId=11006211\n",
      "\n",
      "Assorted Reclosable Bags Pkg/40 , 'storage-bags-totes'\n",
      "https://www.containerstore.com/s/storage/storage-bags-totes/assorted-reclosable-bags/12d?productId=10030813\n",
      "\n",
      "Reclosable Bags , 'storage-bags-totes'\n",
      "https://www.containerstore.com/s/storage/storage-bags-totes/reclosable-bags/12d?productId=10004766\n",
      "$0.89\n",
      "\n",
      "Travel Space Bags by Ziploc , 'storage-bags-totes'\n",
      "https://www.containerstore.com/s/storage/storage-bags-totes/travel-space-bags-by-ziploc/12d?productId=10006747\n",
      "$6.99\n",
      "\n",
      "Space Bag by Ziploc Cube Combo Pack Pkg/2 , 'storage-bags-totes'\n",
      "https://www.containerstore.com/s/storage/storage-bags-totes/space-bag-by-ziploc-cube-combo-pack/12d?productId=10027574\n",
      "$14.99\n",
      "\n",
      "Folding Wire Storage Basket , 'decorative-bins-baskets'\n",
      "https://www.containerstore.com/s/storage/decorative-bins-baskets/folding-wire-storage-basket/12d?productId=11000564\n"
     ]
    }
   ],
   "source": [
    "f1a = 6.\n",
    "f1b = 8.25\n",
    "f2a = 9.\n",
    "f2b = 12.\n",
    "f3a = 5.\n",
    "f3b = 7.\n",
    "\n",
    "# f1a = 17.\n",
    "# f1b = 20.\n",
    "# f2a = 17.\n",
    "# f2b = 20.\n",
    "# f3a = 12.\n",
    "# f3b = 15.\n",
    "\n",
    "\n",
    "pf = my_c.the_perfect_fit2(f1a,f1b,f2a,f2b,f3a,f3b)\n",
    "possibles = pf[3]\n",
    "print('There are',len(possibles), 'containers that will fit your space:')\n",
    "print('')\n",
    "for c in possibles:\n",
    "    print('')\n",
    "    print(c[0]['title'], \", '\"+str(c[0]['category'])+ \"'\")\n",
    "    print(c[0]['url'])\n",
    "    print(c[0]['dimensions'][c[1]])\n",
    "\n",
    "    print('$' +str(c[0]['price'][c[1]]))\n",
    "\n",
    "print('\\n')\n",
    "print('There are',len(pf[2]), 'containers that might fit your space, that have only 2 dimensions given:')\n",
    "for c in pf[2]:\n",
    "    print('')\n",
    "    print(c[0]['title'], \", '\"+str(c[0]['category'])+ \"'\")\n",
    "    print(c[0]['url'])\n",
    "    print(c[0]['dimensions'][c[1]])\n",
    "    \n",
    "    if (len(c[0]['price'])>c[1]):\n",
    "        print('$' +str(c[0]['price'][c[1]]))\n",
    "\n",
    "# print('There are',len(pf[1]), 'containers that with 1 dimension given:')\n",
    "# for c in pf[1]:\n",
    "#     print('')\n",
    "#     print(c[0]['title'], \", '\"+str(c[0]['category'])+ \"'\")\n",
    "#     print(c[0]['url'])\n",
    "#     print(c[0]['dimensions'][c[1]])\n",
    "    \n",
    "#     if (len(c[0]['price'])>c[1]):\n",
    "#         print('$' +str(c[0]['price'][c[1]]))\n",
    "\n",
    "print('\\n')\n",
    "print('There are',len(pf[0]), 'containers that without any dimensions given.  Feel free to see if any of these may work for your needs:')\n",
    "for c in pf[0]:\n",
    "    print('')\n",
    "    print(c[0]['title'], \", '\"+str(c[0]['category'])+ \"'\")\n",
    "    print(c[0]['url'])\n",
    "#     print(c[0]['dimensions'][c[1]])\n",
    "    \n",
    "    if (len(c[0]['price'])>c[1]):\n",
    "        print('$' +str(c[0]['price'][c[1]].strip()))\n"
   ]
  },
  {
   "cell_type": "code",
   "execution_count": null,
   "metadata": {
    "collapsed": true
   },
   "outputs": [],
   "source": []
  },
  {
   "cell_type": "code",
   "execution_count": null,
   "metadata": {
    "collapsed": true
   },
   "outputs": [],
   "source": []
  },
  {
   "cell_type": "code",
   "execution_count": null,
   "metadata": {
    "collapsed": true
   },
   "outputs": [],
   "source": []
  },
  {
   "cell_type": "code",
   "execution_count": null,
   "metadata": {
    "collapsed": true
   },
   "outputs": [],
   "source": []
  },
  {
   "cell_type": "code",
   "execution_count": 80,
   "metadata": {
    "collapsed": true
   },
   "outputs": [],
   "source": []
  },
  {
   "cell_type": "code",
   "execution_count": null,
   "metadata": {
    "collapsed": true
   },
   "outputs": [],
   "source": []
  },
  {
   "cell_type": "code",
   "execution_count": null,
   "metadata": {
    "collapsed": true
   },
   "outputs": [],
   "source": [
    "\n"
   ]
  },
  {
   "cell_type": "code",
   "execution_count": null,
   "metadata": {
    "collapsed": true
   },
   "outputs": [],
   "source": []
  },
  {
   "cell_type": "code",
   "execution_count": null,
   "metadata": {
    "collapsed": true
   },
   "outputs": [],
   "source": []
  },
  {
   "cell_type": "raw",
   "metadata": {},
   "source": [
    "with open('container8.json') as data_file:    \n",
    "    data = json.load(data_file)\n"
   ]
  },
  {
   "cell_type": "raw",
   "metadata": {},
   "source": [
    "\n",
    "for j in range (0,len(data)):\n",
    "    data[j]['new dimensions']=[]\n",
    "    # many container links have containers available in several different sizes, so we roam through each one\n",
    "    for k in range(0,len(data[j]['dimensions'])):\n",
    "        dim_no_whitespace = data[j]['dimensions'][k].strip()\n",
    "        if (dim_no_whitespace != \"\"):\n",
    "            mydim = data[j]['dimensions'][k].split('x')\n",
    "            newdim = []\n",
    "            # each dimension of the container needs to be converted to a float and added to 'new dimensions'\n",
    "            for i in range (0,len(mydim)):\n",
    "                mysplit = mydim[i].split('sq.')[0]\n",
    "                if '-' in mysplit:\n",
    "                    this_split = mysplit.split('-')\n",
    "                    num =0\n",
    "                    for p in this_split:\n",
    "                        num += float(Fraction(p.split('\"')[0]))\n",
    "                else:\n",
    "                    num = float(Fraction(mysplit.split('\"')[0]))\n",
    "                # if the entry notes that it is square or a diameter, then the dimension needs to be inserted in two spots            \n",
    "                double=int(('sq.' in mydim[i]) or ('diam.' in mydim[i]))\n",
    "                for _ in range(0,double+1):\n",
    "                    newdim.append(num)\n",
    "            data[j]['new dimensions'].append(newdim)"
   ]
  },
  {
   "cell_type": "raw",
   "metadata": {},
   "source": [
    "j=93\n",
    "for k in range(0,len(data[j]['dimensions'])):\n",
    "#     print(k)\n",
    "    dim_no_whitespace = data[j]['dimensions'][k].strip()\n",
    "#     if dim_no_whitespace ==\"\":\n",
    "#         print('white')\n",
    "#         break\n",
    "    if (dim_no_whitespace != \"\"):\n",
    "        print('dim_no_whitespace:', dim_no_whitespace)\n",
    "        mydim = data[j]['dimensions'][k].split('x')\n",
    "        newdim = []\n",
    "        print(mydim)\n",
    "        #     print(mydim.strip())\n",
    "        # each dimension of the container needs to be converted to a float and added to 'new dimensions'\n",
    "        for i in range (0,len(mydim)):\n",
    "            print('i',i)\n",
    "            mysplit = mydim[i].split('sq.')[0]\n",
    "            print('mysplit', mysplit)\n",
    "            if '-' in mysplit:\n",
    "                this_split = mysplit.split('-')\n",
    "                num =0\n",
    "                for p in this_split:\n",
    "                    num += float(Fraction(p.split('\"')[0]))\n",
    "            else:\n",
    "                num = float(Fraction(mysplit.split('\"')[0]))\n",
    "                print('num',num)\n",
    "            # if the entry notes that it is square or a diameter, then the dimension needs to be inserted in two spots            \n",
    "            double=int(('sq.' in mydim[i]) or ('diam.' in mydim[i]))\n",
    "            for _ in range(0,double+1):\n",
    "                newdim.append(num)\n",
    "        data[j]['new dimensions'].append(newdim)"
   ]
  }
 ],
 "metadata": {
  "kernelspec": {
   "display_name": "Python 3",
   "language": "python",
   "name": "python3"
  },
  "language_info": {
   "codemirror_mode": {
    "name": "ipython",
    "version": 3
   },
   "file_extension": ".py",
   "mimetype": "text/x-python",
   "name": "python",
   "nbconvert_exporter": "python",
   "pygments_lexer": "ipython3",
   "version": "3.6.1"
  }
 },
 "nbformat": 4,
 "nbformat_minor": 2
}
