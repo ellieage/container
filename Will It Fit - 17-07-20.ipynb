{
 "cells": [
  {
   "cell_type": "markdown",
   "metadata": {},
   "source": [
    "## Will it Fit?  \n",
    "**A container problem solved.**\n",
    "\n",
    "The containerstore.com has a large selection of containers, but does not provide a search option to specify the size of the container.  My cat clawed the wicker baskets that fit perfectly in my small dresser, so I am in need of replacement containers in a very specific size.  Then I will be able to avoid trashing the entire piece of furniture.\n",
    "\n",
    "First I scraped the data from the container store website collecting the name, dimensions, and url for each piece.  In this notebook we will be able to search for containers within a given range of appropriate dimensions.\n"
   ]
  },
  {
   "cell_type": "code",
   "execution_count": 332,
   "metadata": {
    "collapsed": true
   },
   "outputs": [],
   "source": [
    "import scrapy\n",
    "import json\n",
    "from pprint import pprint"
   ]
  },
  {
   "cell_type": "markdown",
   "metadata": {},
   "source": [
    "Let's start by looking at the collected data.  "
   ]
  },
  {
   "cell_type": "code",
   "execution_count": 333,
   "metadata": {},
   "outputs": [
    {
     "name": "stdout",
     "output_type": "stream",
     "text": [
      "no dimensions given:\n",
      "https://www.containerstore.com/s/storage/plastic-bins-baskets/white-compact-plastic-bins-4-pack-with-grey-lids/12d?productId=11006520\n",
      "no dimensions given:\n",
      "https://www.containerstore.com/s/storage/plastic-bins-baskets/white-compact-plastic-bins-4-pack-with-white-lids/12d?productId=11006211\n",
      "no dimensions given:\n",
      "https://www.containerstore.com/s/storage/decorative-bins-baskets/folding-wire-storage-basket/12d?productId=11000564\n",
      "262\n"
     ]
    }
   ],
   "source": [
    "with open('container3.json') as data_file:    \n",
    "    data = json.load(data_file)\n",
    "\n",
    "# pprint(data[0:10])\n",
    "# count = 0\n",
    "for i in range(0,len(data)):\n",
    "\n",
    "    if((data[i]['dimensions'])==[]):\n",
    "        print('no dimensions given:')\n",
    "        print (data[i]['url'])\n",
    "#         count += 1\n",
    "pprint(len(data))\n",
    "# print(count)"
   ]
  },
  {
   "cell_type": "markdown",
   "metadata": {},
   "source": [
    "We scraped the Container Store website and found 210 items from the \"decorative bins and baskets\" section and 52 from the \"plastic bins and baskets\" section.  Above we print links to the three items do not have dimensions given.  (Scraped on July 20, 2017)"
   ]
  },
  {
   "cell_type": "code",
   "execution_count": 334,
   "metadata": {},
   "outputs": [
    {
     "name": "stdout",
     "output_type": "stream",
     "text": [
      "{'dimensions': ['13\" sq. x 11\" h',\n",
      "                '13\" sq. x 11\" h',\n",
      "                '13\" sq. x 11\" h',\n",
      "                '13\" sq. x 11\" h'],\n",
      " 'price': ['9.99', '9.99', '9.99', '9.99'],\n",
      " 'title': 'Authentic Milk Crate',\n",
      " 'url': 'https://www.containerstore.com/s/storage/plastic-bins-baskets/authentic-milk-crate/12d?productId=10000531'}\n",
      "{'dimensions': ['14\" x 18-1/4\" x 8-1/2\" h', '11\" x 15\" x 6-1/4\" h'],\n",
      " 'price': ['34.99', '21.99'],\n",
      " 'title': 'Nova Woven Storage Bins',\n",
      " 'url': 'https://www.containerstore.com/s/storage/decorative-bins-baskets/nova-woven-storage-bins/12d?productId=11006165'}\n"
     ]
    }
   ],
   "source": [
    "for i in range (15,17):\n",
    "    pprint(data[i])"
   ]
  },
  {
   "cell_type": "markdown",
   "metadata": {},
   "source": [
    "Next we adjust the format of the dimensions to make them searchable. They will be listed as [length, width, height] all in inches. "
   ]
  },
  {
   "cell_type": "code",
   "execution_count": 335,
   "metadata": {
    "collapsed": true
   },
   "outputs": [],
   "source": [
    "from fractions import Fraction\n",
    "# loop through the container links\n",
    "for j in range (0,len(data)):\n",
    "    data[j]['new dimensions']=[]\n",
    "    # many container links have containers available in several different sizes, so we roam through each one\n",
    "    for k in range(0,len(data[j]['dimensions'])):\n",
    "        mydim = data[j]['dimensions'][k].split('x')\n",
    "        newdim = []\n",
    "        # each dimension of the container needs to be converted to a float and added to 'new dimensions'\n",
    "        for i in range (0,len(mydim)):\n",
    "            mysplit = mydim[i].split('sq.')[0]\n",
    "            if '-' in mysplit:\n",
    "                this_split = mysplit.split('-')\n",
    "                num =0\n",
    "                for p in this_split:\n",
    "                    num += float(Fraction(p.split('\"')[0]))\n",
    "            else:\n",
    "                num = float(Fraction(mysplit.split('\"')[0]))\n",
    "            # if the entry notes that it is square or a diameter, then the dimension needs to be inserted in two spots            \n",
    "            double=int(('sq.' in mydim[i]) or ('diam.' in mydim[i]))\n",
    "            for _ in range(0,double+1):\n",
    "                newdim.append(num)\n",
    "        data[j]['new dimensions'].append(newdim)"
   ]
  },
  {
   "cell_type": "code",
   "execution_count": 337,
   "metadata": {},
   "outputs": [
    {
     "name": "stdout",
     "output_type": "stream",
     "text": [
      "\n",
      "{'dimensions': ['18\" x 12-3/4\" x 9-7/8\" h'],\n",
      " 'new dimensions': [[18.0, 12.75, 9.875]],\n",
      " 'price': ['13.99'],\n",
      " 'title': 'Clear Stackable Plastic Basket with Handles',\n",
      " 'url': 'https://www.containerstore.com/s/storage/plastic-bins-baskets/clear-stackable-plastic-basket-with-handles/12d?productId=11006058'}\n",
      "['18\" x 12-3/4\" x 9-7/8\" h']\n",
      "[[18.0, 12.75, 9.875]]\n",
      "\n",
      "{'dimensions': ['12\" x 9-1/4\" x 7\" h', '13-7/8\" x 10-7/8\" x 7-3/4\" h'],\n",
      " 'new dimensions': [[12.0, 9.25, 7.0], [13.875, 10.875, 7.75]],\n",
      " 'price': ['14.99', '17.99'],\n",
      " 'title': 'Stone Woven Plastic Storage Bins with Handles',\n",
      " 'url': 'https://www.containerstore.com/s/storage/plastic-bins-baskets/stone-woven-plastic-storage-bins-with-handles/12d?productId=11005640'}\n",
      "['12\" x 9-1/4\" x 7\" h', '13-7/8\" x 10-7/8\" x 7-3/4\" h']\n",
      "[[12.0, 9.25, 7.0], [13.875, 10.875, 7.75]]\n"
     ]
    }
   ],
   "source": [
    "for j in range (0,2):\n",
    "    print('')\n",
    "    pprint(data[j])\n",
    "    print(data[j]['dimensions'])\n",
    "    print(data[j]['new dimensions'])\n",
    "    "
   ]
  },
  {
   "cell_type": "markdown",
   "metadata": {},
   "source": [
    "The will_it_fit function will be given 6 values, 2 for each dimension (a lower and upper limit).  It will return the possible containers."
   ]
  },
  {
   "cell_type": "code",
   "execution_count": 338,
   "metadata": {
    "collapsed": true
   },
   "outputs": [],
   "source": [
    "def will_it_fit(f1a,f1b,f2a,f2b,f3a,f3b):\n",
    "\n",
    "    possibles = []\n",
    "    for j in range(0,len(data)):\n",
    "        num_of_containers  = len(data[j]['new dimensions'])\n",
    "        for k in range(0,num_of_containers):\n",
    "            if (len(data[j]['new dimensions'][k])==3):\n",
    "                \n",
    "                if ((f1a<data[j]['new dimensions'][k][0]<f1b) and (f2a<data[j]['new dimensions'][k][1]<f2b) \n",
    "                    and (f3a<data[j]['new dimensions'][k][2]<f3b)):\n",
    "\n",
    "                    possibles.append([data[j],k])\n",
    "\n",
    "    return possibles\n",
    "    "
   ]
  },
  {
   "cell_type": "markdown",
   "metadata": {},
   "source": [
    "The container that I am looking for should be in the range of 6-8.25\" x 9-12\" x 5-7\""
   ]
  },
  {
   "cell_type": "code",
   "execution_count": 339,
   "metadata": {},
   "outputs": [
    {
     "name": "stdout",
     "output_type": "stream",
     "text": [
      "There are 14 containers that will fit your space:\n",
      "\n",
      "\n",
      "White & Black Napa Woven Storage Cube 12\" sq. x 12\" h\n",
      "$29.99\n",
      "https://www.containerstore.com/s/storage/decorative-bins-baskets/white-black-napa-woven-storage-cube/12d?productId=11005708\n",
      "\n",
      "Patchwork Storage Cube 12\" sq. x 12\" h\n",
      "$29.99\n",
      "https://www.containerstore.com/s/storage/decorative-bins-baskets/patchwork-storage-cube/12d?productId=11001585\n",
      "\n",
      "Bigso Marten Navy Storage Cube with Leather Handles 12\" sq. x 12\" h\n",
      "$19.99\n",
      "https://www.containerstore.com/s/storage/decorative-bins-baskets/bigso-marten-navy-storage-cube-with-leather-handles/12d?productId=11002268\n",
      "\n",
      "Bigso Marten Chestnut Storage Cube with Leather Handles 12\" sq. x 12\" h\n",
      "$19.99\n",
      "https://www.containerstore.com/s/storage/decorative-bins-baskets/bigso-marten-chestnut-storage-cube-with-leather-handles/12d?productId=11002269\n",
      "\n",
      "Bigso Marten Grey Storage Cube with Leather Handles 12\" sq. x 12\" h\n",
      "$19.99\n",
      "https://www.containerstore.com/s/storage/decorative-bins-baskets/bigso-marten-grey-storage-cube-with-leather-handles/12d?productId=11002076\n",
      "\n",
      "Design Ideas Open Front Stackable Wire Storage Cubes 12\" sq. x 12\" h\n",
      "$27.99\n",
      "https://www.containerstore.com/s/storage/decorative-bins-baskets/design-ideas-open-front-stackable-wire-storage-cubes/12d?productId=11005669\n",
      "\n",
      "Feathergrain Wooden Storage Cubes with Handles 12\" sq. x 12\" h\n",
      "$29.99\n",
      "https://www.containerstore.com/s/storage/decorative-bins-baskets/feathergrain-wooden-storage-cubes-with-handles/12d?productId=11005659\n",
      "\n",
      "Blackwash Rattan Storage Cube with Handles 12\" sq. x 12\" h\n",
      "$39.99\n",
      "https://www.containerstore.com/s/storage/decorative-bins-baskets/blackwash-rattan-storage-cube-with-handles/12d?productId=11002910\n",
      "\n",
      "Copper Rattan Storage Cube with  Handles 12\" sq. x 12\" h\n",
      "$39.99\n",
      "https://www.containerstore.com/s/storage/decorative-bins-baskets/copper-rattan-storage-cube-with--handles/12d?productId=11001927\n",
      "\n",
      "Water Hyacinth Storage Cubes with Handles 12\" sq. x 12\" h\n",
      "$14.99\n",
      "https://www.containerstore.com/s/storage/decorative-bins-baskets/water-hyacinth-storage-cubes-with-handles/12d?productId=11001916\n",
      "\n",
      "Bigso Flax Fabric Storage Cube 12-3/8\" sq. x 12-3/8\" h\n",
      "$12.99\n",
      "https://www.containerstore.com/s/storage/decorative-bins-baskets/bigso-flax-fabric-storage-cube/12d?productId=11005653\n",
      "\n",
      "Bigso Grey Fabric Storage Cube 12-3/8\" sq. x 12-3/8\" h\n",
      "$12.99\n",
      "https://www.containerstore.com/s/storage/decorative-bins-baskets/bigso-grey-fabric-storage-cube/12d?productId=11006336\n",
      "\n",
      "Whitewash Rattan Storage Cube with Handles 12\" sq. x 12\" h\n",
      "$39.99\n",
      "https://www.containerstore.com/s/storage/decorative-bins-baskets/whitewash-rattan-storage-cube-with-handles/12d?productId=11002911\n",
      "\n",
      "Ashcraft Storage Cubes with Handles 12\" sq. x 12\" h\n",
      "$19.99\n",
      "https://www.containerstore.com/s/storage/decorative-bins-baskets/ashcraft-storage-cubes-with-handles/12d?productId=11005637\n"
     ]
    }
   ],
   "source": [
    "# f1a = 6.\n",
    "# f1b = 8.25\n",
    "# f2a = 9.\n",
    "# f2b = 12.\n",
    "# f3a = 5.\n",
    "# f3b = 7.\n",
    "\n",
    "f1a = 11.\n",
    "f1b = 13.\n",
    "f2a = 11.\n",
    "f2b = 13.\n",
    "f3a = 11.\n",
    "f3b = 13.\n",
    "\n",
    "\n",
    "possibles = will_it_fit(f1a,f1b,f2a,f2b,f3a,f3b)\n",
    "# possibles = our_fit[0]\n",
    "# odd = our_fit[1]\n",
    "# print(possibles[0])\n",
    "\n",
    "# print('Containers that will fit your space:') \n",
    "print('There are',len(possibles), 'containers that will fit your space:')\n",
    "print('')\n",
    "for c in possibles:\n",
    "    print('')\n",
    "    print(c[0]['title'],c[0]['dimensions'][c[1]])\n",
    "    print('$' + str(c[0]['price'][c[1]]))\n",
    "    print(c[0]['url'])\n",
    "\n",
    "\n",
    "    "
   ]
  },
  {
   "cell_type": "code",
   "execution_count": 340,
   "metadata": {},
   "outputs": [
    {
     "name": "stdout",
     "output_type": "stream",
     "text": [
      "https://www.containerstore.com/s/storage/decorative-bins-baskets/plastic-wicker-storage-bin-with-handles/12d?productId=11005711\n",
      "['18\" x 12-1/4\" x 8\" h']\n",
      "[[18.0, 12.25, 8.0]]\n",
      "['7\" x 11\" x 5-1/4\" h']\n",
      "[[7.0, 11.0, 5.25]]\n"
     ]
    }
   ],
   "source": [
    "print(data[25]['url'])\n",
    "print(data[25]['dimensions'])\n",
    "print(data[25]['new dimensions'])\n",
    "\n",
    "print(data[26]['dimensions'])\n",
    "print(data[26]['new dimensions'])\n",
    "# print(data[27]['dimensions'])\n",
    "# print(data[27]['new dimensions'])"
   ]
  },
  {
   "cell_type": "markdown",
   "metadata": {},
   "source": [
    "Some of the dimensions give only one or two dimensions.  These are accessories to other storage containers so they are excluded from the will_it_fit function that searches for containers by dimension."
   ]
  },
  {
   "cell_type": "code",
   "execution_count": 342,
   "metadata": {},
   "outputs": [
    {
     "name": "stdout",
     "output_type": "stream",
     "text": [
      "These are some results that are 1 or 2 dimensional divider accessories to containers.  These are excluded from container searches:\n",
      "\n",
      "\n",
      "White Wide AkroBin 10-7/8\"\n",
      "https://www.containerstore.com/s/storage/plastic-bins-baskets/white-wide-akrobin/12d?productId=11004565\n",
      "\n",
      "White Wide AkroBin 18\" x 19\"\n",
      "https://www.containerstore.com/s/storage/plastic-bins-baskets/white-wide-akrobin/12d?productId=11004565\n",
      "\n",
      "White Medium AkroBins 14-3/4\"\n",
      "https://www.containerstore.com/s/storage/plastic-bins-baskets/white-medium-akrobins/12d?productId=11003417\n",
      "\n",
      "White Medium AkroBins 10-7/8\"\n",
      "https://www.containerstore.com/s/storage/plastic-bins-baskets/white-medium-akrobins/12d?productId=11003417\n",
      "\n",
      "White Medium AkroBins 18\" x 19\"\n",
      "https://www.containerstore.com/s/storage/plastic-bins-baskets/white-medium-akrobins/12d?productId=11003417\n",
      "\n",
      "White Extra Wide AkroBins 10-7/8\"\n",
      "https://www.containerstore.com/s/storage/plastic-bins-baskets/white-extra-wide-akrobins/12d?productId=11003418\n",
      "\n",
      "White Extra Wide AkroBins 18\" x 19\"\n",
      "https://www.containerstore.com/s/storage/plastic-bins-baskets/white-extra-wide-akrobins/12d?productId=11003418\n",
      "\n",
      "White Narrow AkroBins 18\" x 19\"\n",
      "https://www.containerstore.com/s/storage/plastic-bins-baskets/white-narrow-akrobins/12d?productId=11003416\n",
      "\n",
      "White Narrow AkroBins 10-7/8\"\n",
      "https://www.containerstore.com/s/storage/plastic-bins-baskets/white-narrow-akrobins/12d?productId=11003416\n",
      "\n",
      "White Extra Narrow AkroBins 18\" x 19\"\n",
      "https://www.containerstore.com/s/storage/plastic-bins-baskets/white-extra-narrow-akrobins/12d?productId=11003143\n",
      "\n",
      "White Extra Narrow AkroBins 5-3/8\"\n",
      "https://www.containerstore.com/s/storage/plastic-bins-baskets/white-extra-narrow-akrobins/12d?productId=11003143\n",
      "\n",
      "White Extra Narrow AkroBins 7-3/8\"\n",
      "https://www.containerstore.com/s/storage/plastic-bins-baskets/white-extra-narrow-akrobins/12d?productId=11003143\n",
      "\n",
      "White Extra Narrow AkroBins 10-7/8\"\n",
      "https://www.containerstore.com/s/storage/plastic-bins-baskets/white-extra-narrow-akrobins/12d?productId=11003143\n"
     ]
    }
   ],
   "source": [
    "odd = []\n",
    "for j in range(0,len(data)):\n",
    "    num_of_containers  = len(data[j]['new dimensions'])\n",
    "    for k in range(0,num_of_containers):\n",
    "        if (len(data[j]['new dimensions'][k])!=3):\n",
    "\n",
    "            odd.append([data[j],k])\n",
    "    \n",
    "print('These are some results that are 1 or 2 dimensional divider accessories to containers.  These are excluded from container searches:')    \n",
    "print('')\n",
    "for o in odd:\n",
    "    print('')    \n",
    "    print(o[0]['title'],o[0]['dimensions'][o[1]])\n",
    "    print(o[0]['url'])"
   ]
  },
  {
   "cell_type": "code",
   "execution_count": null,
   "metadata": {},
   "outputs": [],
   "source": [
    "\n"
   ]
  },
  {
   "cell_type": "code",
   "execution_count": null,
   "metadata": {
    "collapsed": true
   },
   "outputs": [],
   "source": []
  },
  {
   "cell_type": "code",
   "execution_count": null,
   "metadata": {
    "collapsed": true
   },
   "outputs": [],
   "source": []
  }
 ],
 "metadata": {
  "kernelspec": {
   "display_name": "Python 3",
   "language": "python",
   "name": "python3"
  },
  "language_info": {
   "codemirror_mode": {
    "name": "ipython",
    "version": 3
   },
   "file_extension": ".py",
   "mimetype": "text/x-python",
   "name": "python",
   "nbconvert_exporter": "python",
   "pygments_lexer": "ipython3",
   "version": "3.6.1"
  }
 },
 "nbformat": 4,
 "nbformat_minor": 2
}
