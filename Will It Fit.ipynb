{
 "cells": [
  {
   "cell_type": "markdown",
   "metadata": {},
   "source": [
    "## Will it Fit?  \n",
    "**A container problem solved.**\n",
    "\n",
    "The containerstore.com has a large selection of containers, but does not provide a search option to specify the size of the container.  My cat clawed the wicker baskets that fit perfectly in my small dresser, so I am in need of replacement containers in a very specific size.  Then I will be able to avoid trashing the entire piece of furniture.\n",
    "\n",
    "First I scraped the data from the container store website collecting the name, dimensions, and url for each piece.  In this notebook we will be able to search for containers within a given range of appropriate dimensions.\n"
   ]
  },
  {
   "cell_type": "code",
   "execution_count": 1,
   "metadata": {
    "collapsed": true
   },
   "outputs": [],
   "source": [
    "import scrapy\n",
    "import json\n",
    "from pprint import pprint"
   ]
  },
  {
   "cell_type": "markdown",
   "metadata": {},
   "source": [
    "Let's start by looking at the collected data.  "
   ]
  },
  {
   "cell_type": "code",
   "execution_count": 2,
   "metadata": {},
   "outputs": [
    {
     "name": "stdout",
     "output_type": "stream",
     "text": [
      "no dimensions given:\n",
      "https://www.containerstore.com/s/storage/decorative-bins-baskets/folding-wire-storage-basket/12d?productId=11000564\n",
      "203\n"
     ]
    }
   ],
   "source": [
    "with open('container.json') as data_file:    \n",
    "    data = json.load(data_file)\n",
    "\n",
    "# pprint(data[0:10])\n",
    "# count = 0\n",
    "for i in range(0,len(data)):\n",
    "\n",
    "    if((data[i]['dimensions'])==[]):\n",
    "        print('no dimensions given:')\n",
    "        print (data[i]['url'])\n",
    "#         count += 1\n",
    "pprint(len(data))\n",
    "# print(count)"
   ]
  },
  {
   "cell_type": "markdown",
   "metadata": {},
   "source": [
    "We scraped 203 items stored as json from the \"decorative bins and baskets\" section of the container store website.  There is only one container without dimensions given."
   ]
  },
  {
   "cell_type": "code",
   "execution_count": 3,
   "metadata": {},
   "outputs": [
    {
     "name": "stdout",
     "output_type": "stream",
     "text": [
      "10\" sq. x 10\" h\n",
      "13-1/4\" x 9-1/2\" x 5\" h\n",
      "16\" x 11\" x 9\" h\n",
      "9-1/4\" x 14-1/4\" x 4-1/2\" h\n",
      "13\" x 18\" x 9\" h\n",
      "12-1/4\" x 8-1/2\" x 7\" h\n",
      "9-1/2\" x 16-1/2\" x 9-1/2\" h\n",
      "12-1/4\" x 8-1/2\" x 7\" h\n",
      "8-1/2\" x 13\" x 9\" h\n",
      "11\" x 15\" x 6-1/4\" h\n"
     ]
    }
   ],
   "source": [
    "for i in range (0,10):\n",
    "    print(data[i]['dimensions'][0])"
   ]
  },
  {
   "cell_type": "markdown",
   "metadata": {},
   "source": [
    "Next we adjust the format of the dimensions to make them searchable. They will be listed as [length, width, height] all in inches. "
   ]
  },
  {
   "cell_type": "code",
   "execution_count": 4,
   "metadata": {
    "collapsed": true
   },
   "outputs": [],
   "source": [
    "from fractions import Fraction\n",
    "\n",
    "for j in range (0,len(data)):\n",
    "    \n",
    "    data[j]['new dimensions']=[]\n",
    "    \n",
    "    # list of three dimensions (or two if len=width, height always last)\n",
    "    \n",
    "    for k in range(0,len(data[j]['dimensions'])):\n",
    "        mydim = data[j]['dimensions'][k].split('x')\n",
    "\n",
    "        newdim = []\n",
    "\n",
    "        # if the len = width it says \"sq.\" and only has two entries, first the len/width, second the height\n",
    "        if len(mydim)==2:\n",
    "            for i in range (0,len(mydim)):\n",
    "                spot = mydim[i]\n",
    "                squaresplit = spot.split('sq.')[0]\n",
    "                mysplit = squaresplit.split('-')\n",
    "                if len(mysplit)==2:\n",
    "\n",
    "                    integer = mysplit[0]\n",
    "                    fraction = float(Fraction(mysplit[1].split('\"')[0]))\n",
    "                    num = float(integer) + fraction\n",
    "                else:\n",
    "                    num = float(mysplit[0].split('\"')[0])\n",
    "                if (i==0):\n",
    "                    newdim.append(num)\n",
    "\n",
    "                newdim.append(num)\n",
    "\n",
    "        else:\n",
    "            for i in range (0,len(mydim)):\n",
    "\n",
    "                spot = mydim[i]\n",
    "                mysplit = spot.split('-')\n",
    "                if len(mysplit)==2:\n",
    "\n",
    "                    integer = mysplit[0]\n",
    "                    fraction = float(Fraction(mysplit[1].split('\"')[0]))\n",
    "                    num = float(integer) + fraction\n",
    "                else:\n",
    "                    num = float(mysplit[0].split('\"')[0])\n",
    "\n",
    "                newdim.append(num)\n",
    "\n",
    "        data[j]['new dimensions'].append(newdim)"
   ]
  },
  {
   "cell_type": "code",
   "execution_count": 5,
   "metadata": {},
   "outputs": [
    {
     "name": "stdout",
     "output_type": "stream",
     "text": [
      "[10.0, 10.0, 10.0]\n",
      "[13.25, 9.5, 5.0]\n",
      "[16.0, 11.0, 9.0]\n",
      "[9.25, 14.25, 4.5]\n",
      "[13.0, 18.0, 9.0]\n",
      "[12.25, 8.5, 7.0]\n",
      "[9.5, 16.5, 9.5]\n",
      "[12.25, 8.5, 7.0]\n",
      "[8.5, 13.0, 9.0]\n",
      "[11.0, 15.0, 6.25]\n"
     ]
    }
   ],
   "source": [
    "for i in range (0,10):\n",
    "    print(data[i]['new dimensions'][0])"
   ]
  },
  {
   "cell_type": "code",
   "execution_count": 6,
   "metadata": {},
   "outputs": [
    {
     "name": "stdout",
     "output_type": "stream",
     "text": [
      "['10\" sq. x 10\" h', '12\" sq. x 12\" h']\n",
      "[[10.0, 10.0, 10.0], [12.0, 12.0, 12.0]]\n"
     ]
    }
   ],
   "source": [
    "print(data[0]['dimensions'])\n",
    "print(data[0]['new dimensions'])"
   ]
  },
  {
   "cell_type": "markdown",
   "metadata": {},
   "source": [
    "The will_it_fit function will be given 6 values, 2 for each dimension (a lower and upper limit).  It will return the possible containers."
   ]
  },
  {
   "cell_type": "code",
   "execution_count": 7,
   "metadata": {
    "collapsed": true
   },
   "outputs": [],
   "source": [
    "def will_it_fit(f1a,f1b,f2a,f2b,f3a,f3b):\n",
    "\n",
    "    possibles = []\n",
    "    for j in range(0,len(data)):\n",
    "\n",
    "        k=0\n",
    "        if (len(data[j]['new dimensions'])>0):\n",
    "            if ((f1a<data[j]['new dimensions'][k][0]<f1b) and (f2a<data[j]['new dimensions'][k][1]<f2b) \n",
    "                and (f3a<data[j]['new dimensions'][k][2]<f3b)):\n",
    "                \n",
    "                possibles.append([data[j],k])\n",
    "            \n",
    "    return possibles\n",
    "    "
   ]
  },
  {
   "cell_type": "markdown",
   "metadata": {},
   "source": [
    "The container that I am looking for should be in the range of 6-8.25\" x 9-12\" x 5-7\""
   ]
  },
  {
   "cell_type": "code",
   "execution_count": 8,
   "metadata": {},
   "outputs": [
    {
     "name": "stdout",
     "output_type": "stream",
     "text": [
      "\n",
      "Rectangular Hogla Storage Bin with Lid ['7\" x 11\" x 5-1/4\" h']\n",
      "https://www.containerstore.com/s/storage/decorative-bins-baskets/rectangular-hogla-storage-bin-with-lid/12d?productId=11003202\n",
      "\n",
      "Mondrian Storage Boxes with Lids ['7\" x 10-5/8\" x 5-3/8\" h', '10-3/4\" x 14-5/8\" x 5-7/16\" h', '10-3/4\" x 14-5/8\" x 9-5/16\" h']\n",
      "https://www.containerstore.com/s/storage/decorative-bins-baskets/mondrian-storage-boxes-with-lids/12d?productId=10036979\n",
      "\n",
      "Small Rectangular Hogla Storage Bin with Handles ['7\" x 11\" x 5-1/4\" h']\n",
      "https://www.containerstore.com/s/storage/decorative-bins-baskets/small-rectangular-hogla-storage-bin-with-handles/12d?productId=10035370\n"
     ]
    }
   ],
   "source": [
    "f1a = 6.\n",
    "f1b = 8.25\n",
    "f2a = 9.\n",
    "f2b = 12.\n",
    "f3a = 5.\n",
    "f3b = 7.\n",
    "\n",
    "\n",
    "possibles = will_it_fit(f1a,f1b,f2a,f2b,f3a,f3b)\n",
    "for c in possibles:\n",
    "    print('')\n",
    "    print(c[0]['title'],c[0]['dimensions'])\n",
    "    print(c[0]['url'])\n"
   ]
  },
  {
   "cell_type": "code",
   "execution_count": null,
   "metadata": {
    "collapsed": true
   },
   "outputs": [],
   "source": []
  },
  {
   "cell_type": "code",
   "execution_count": null,
   "metadata": {
    "collapsed": true
   },
   "outputs": [],
   "source": []
  },
  {
   "cell_type": "code",
   "execution_count": null,
   "metadata": {
    "collapsed": true
   },
   "outputs": [],
   "source": []
  }
 ],
 "metadata": {
  "kernelspec": {
   "display_name": "Python 3",
   "language": "python",
   "name": "python3"
  },
  "language_info": {
   "codemirror_mode": {
    "name": "ipython",
    "version": 3
   },
   "file_extension": ".py",
   "mimetype": "text/x-python",
   "name": "python",
   "nbconvert_exporter": "python",
   "pygments_lexer": "ipython3",
   "version": "3.6.1"
  }
 },
 "nbformat": 4,
 "nbformat_minor": 2
}
