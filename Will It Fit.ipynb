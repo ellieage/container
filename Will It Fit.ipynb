{
 "cells": [
  {
   "cell_type": "markdown",
   "metadata": {},
   "source": [
    "## Will it Fit?  \n",
    "**A container problem solved.**\n",
    "\n",
    "The containerstore.com has a large selection of containers, but does not provide a search option to specify the size of the container.  My cat clawed the wicker baskets that fit perfectly in my small dresser, so I am in need of replacement containers in a very specific size.  Then I will be able to avoid trashing the entire piece of furniture.\n",
    "\n",
    "First I scraped the data from the container store website collecting the name, dimensions, and url for each piece.  In this notebook we will be able to search for containers within a given range of appropriate dimensions.\n"
   ]
  },
  {
   "cell_type": "code",
   "execution_count": 19,
   "metadata": {
    "collapsed": true
   },
   "outputs": [],
   "source": [
    "import scrapy\n",
    "import json\n",
    "from pprint import pprint"
   ]
  },
  {
   "cell_type": "markdown",
   "metadata": {},
   "source": [
    "Start by scraping and storing the data."
   ]
  },
  {
   "cell_type": "code",
   "execution_count": 20,
   "metadata": {},
   "outputs": [
    {
     "name": "stdout",
     "output_type": "stream",
     "text": [
      "2017-07-20 16:10:23 [scrapy.utils.log] INFO: Scrapy 1.4.0 started (bot: container)\n",
      "2017-07-20 16:10:23 [scrapy.utils.log] INFO: Overridden settings: {'BOT_NAME': 'container', 'FEED_FORMAT': 'json', 'FEED_URI': 'container.json', 'LOG_LEVEL': 'INFO', 'NEWSPIDER_MODULE': 'container.spiders', 'ROBOTSTXT_OBEY': True, 'SPIDER_MODULES': ['container.spiders']}\n",
      "2017-07-20 16:10:23 [scrapy.middleware] INFO: Enabled extensions:\n",
      "['scrapy.extensions.corestats.CoreStats',\n",
      " 'scrapy.extensions.telnet.TelnetConsole',\n",
      " 'scrapy.extensions.memusage.MemoryUsage',\n",
      " 'scrapy.extensions.feedexport.FeedExporter',\n",
      " 'scrapy.extensions.logstats.LogStats']\n",
      "2017-07-20 16:10:23 [scrapy.middleware] INFO: Enabled downloader middlewares:\n",
      "['scrapy.downloadermiddlewares.robotstxt.RobotsTxtMiddleware',\n",
      " 'scrapy.downloadermiddlewares.httpauth.HttpAuthMiddleware',\n",
      " 'scrapy.downloadermiddlewares.downloadtimeout.DownloadTimeoutMiddleware',\n",
      " 'scrapy.downloadermiddlewares.defaultheaders.DefaultHeadersMiddleware',\n",
      " 'scrapy.downloadermiddlewares.useragent.UserAgentMiddleware',\n",
      " 'scrapy.downloadermiddlewares.retry.RetryMiddleware',\n",
      " 'scrapy.downloadermiddlewares.redirect.MetaRefreshMiddleware',\n",
      " 'scrapy.downloadermiddlewares.httpcompression.HttpCompressionMiddleware',\n",
      " 'scrapy.downloadermiddlewares.redirect.RedirectMiddleware',\n",
      " 'scrapy.downloadermiddlewares.cookies.CookiesMiddleware',\n",
      " 'scrapy.downloadermiddlewares.httpproxy.HttpProxyMiddleware',\n",
      " 'scrapy.downloadermiddlewares.stats.DownloaderStats']\n",
      "2017-07-20 16:10:23 [scrapy.middleware] INFO: Enabled spider middlewares:\n",
      "['scrapy.spidermiddlewares.httperror.HttpErrorMiddleware',\n",
      " 'scrapy.spidermiddlewares.offsite.OffsiteMiddleware',\n",
      " 'scrapy.spidermiddlewares.referer.RefererMiddleware',\n",
      " 'scrapy.spidermiddlewares.urllength.UrlLengthMiddleware',\n",
      " 'scrapy.spidermiddlewares.depth.DepthMiddleware']\n",
      "2017-07-20 16:10:23 [scrapy.middleware] INFO: Enabled item pipelines:\n",
      "[]\n",
      "2017-07-20 16:10:23 [scrapy.core.engine] INFO: Spider opened\n",
      "2017-07-20 16:10:23 [scrapy.extensions.logstats] INFO: Crawled 0 pages (at 0 pages/min), scraped 0 items (at 0 items/min)\n",
      "2017-07-20 16:11:08 [scrapy.core.engine] INFO: Closing spider (finished)\n",
      "2017-07-20 16:11:08 [scrapy.extensions.feedexport] INFO: Stored json feed (262 items) in: container.json\n",
      "2017-07-20 16:11:08 [scrapy.statscollectors] INFO: Dumping Scrapy stats:\n",
      "{'downloader/request_bytes': 150854,\n",
      " 'downloader/request_count': 268,\n",
      " 'downloader/request_method_count/GET': 268,\n",
      " 'downloader/response_bytes': 10172497,\n",
      " 'downloader/response_count': 268,\n",
      " 'downloader/response_status_count/200': 268,\n",
      " 'dupefilter/filtered': 3,\n",
      " 'finish_reason': 'finished',\n",
      " 'finish_time': datetime.datetime(2017, 7, 20, 23, 11, 8, 236816),\n",
      " 'item_scraped_count': 262,\n",
      " 'log_count/INFO': 8,\n",
      " 'memusage/max': 44343296,\n",
      " 'memusage/startup': 44343296,\n",
      " 'request_depth_max': 4,\n",
      " 'response_received_count': 268,\n",
      " 'scheduler/dequeued': 267,\n",
      " 'scheduler/dequeued/memory': 267,\n",
      " 'scheduler/enqueued': 267,\n",
      " 'scheduler/enqueued/memory': 267,\n",
      " 'start_time': datetime.datetime(2017, 7, 20, 23, 10, 23, 802775)}\n",
      "2017-07-20 16:11:08 [scrapy.core.engine] INFO: Spider closed (finished)\n"
     ]
    }
   ],
   "source": [
    "!rm container.json\n",
    "!scrapy crawl container -o container.json\n",
    "\n",
    "with open('container.json') as data_file:    \n",
    "    data = json.load(data_file)\n",
    "\n"
   ]
  },
  {
   "cell_type": "code",
   "execution_count": 21,
   "metadata": {},
   "outputs": [
    {
     "name": "stdout",
     "output_type": "stream",
     "text": [
      "no dimensions given:\n",
      "https://www.containerstore.com/s/storage/plastic-bins-baskets/white-compact-plastic-bins-4-pack-with-grey-lids/12d?productId=11006520\n",
      "no dimensions given:\n",
      "https://www.containerstore.com/s/storage/plastic-bins-baskets/white-compact-plastic-bins-4-pack-with-white-lids/12d?productId=11006211\n",
      "no dimensions given:\n",
      "https://www.containerstore.com/s/storage/decorative-bins-baskets/folding-wire-storage-basket/12d?productId=11000564\n",
      "262\n"
     ]
    }
   ],
   "source": [
    "for i in range(0,len(data)):\n",
    "\n",
    "    if((data[i]['dimensions'])==[]):\n",
    "        print('no dimensions given:')\n",
    "        print (data[i]['url'])\n",
    "\n",
    "pprint(len(data))\n"
   ]
  },
  {
   "cell_type": "markdown",
   "metadata": {},
   "source": [
    "We scraped the Container Store website and found 210 items from the \"decorative bins and baskets\" section and 52 from the \"plastic bins and baskets\" section.  Above we print links to the three items do not have dimensions given.  (Scraped on July 20, 2017)"
   ]
  },
  {
   "cell_type": "code",
   "execution_count": 22,
   "metadata": {},
   "outputs": [
    {
     "name": "stdout",
     "output_type": "stream",
     "text": [
      "{'dimensions': ['12-3/8\" sq. x 12-3/8\" h'],\n",
      " 'price': ['12.99'],\n",
      " 'title': 'Bigso Grey Fabric Storage Cube',\n",
      " 'url': 'https://www.containerstore.com/s/storage/decorative-bins-baskets/bigso-grey-fabric-storage-cube/12d?productId=11006336'}\n",
      "{'dimensions': ['11-1/4\" x 8\" x 4-3/8\" h', '15\" x 8-3/4\" x 5\" h'],\n",
      " 'price': ['6.99', '9.99'],\n",
      " 'title': 'Grey Laguna Cotton Fabric Storage Bins',\n",
      " 'url': 'https://www.containerstore.com/s/storage/decorative-bins-baskets/grey-laguna-cotton-fabric-storage-bins/12d?productId=11005643'}\n"
     ]
    }
   ],
   "source": [
    "for i in range (15,17):\n",
    "    pprint(data[i])"
   ]
  },
  {
   "cell_type": "markdown",
   "metadata": {},
   "source": [
    "Next we adjust the format of the dimensions to make them searchable. They will be listed as [length, width, height] all in inches. "
   ]
  },
  {
   "cell_type": "code",
   "execution_count": 23,
   "metadata": {
    "collapsed": true
   },
   "outputs": [],
   "source": [
    "from fractions import Fraction\n",
    "# loop through the container links\n",
    "for j in range (0,len(data)):\n",
    "    data[j]['new dimensions']=[]\n",
    "    # many container links have containers available in several different sizes, so we roam through each one\n",
    "    for k in range(0,len(data[j]['dimensions'])):\n",
    "        mydim = data[j]['dimensions'][k].split('x')\n",
    "        newdim = []\n",
    "        # each dimension of the container needs to be converted to a float and added to 'new dimensions'\n",
    "        for i in range (0,len(mydim)):\n",
    "            mysplit = mydim[i].split('sq.')[0]\n",
    "            if '-' in mysplit:\n",
    "                this_split = mysplit.split('-')\n",
    "                num =0\n",
    "                for p in this_split:\n",
    "                    num += float(Fraction(p.split('\"')[0]))\n",
    "            else:\n",
    "                num = float(Fraction(mysplit.split('\"')[0]))\n",
    "            # if the entry notes that it is square or a diameter, then the dimension needs to be inserted in two spots            \n",
    "            double=int(('sq.' in mydim[i]) or ('diam.' in mydim[i]))\n",
    "            for _ in range(0,double+1):\n",
    "                newdim.append(num)\n",
    "        data[j]['new dimensions'].append(newdim)"
   ]
  },
  {
   "cell_type": "code",
   "execution_count": 24,
   "metadata": {},
   "outputs": [
    {
     "name": "stdout",
     "output_type": "stream",
     "text": [
      "\n",
      "{'dimensions': [],\n",
      " 'new dimensions': [],\n",
      " 'price': ['29.99'],\n",
      " 'title': 'White Compact Plastic Bins 4-Pack with Grey Lids',\n",
      " 'url': 'https://www.containerstore.com/s/storage/plastic-bins-baskets/white-compact-plastic-bins-4-pack-with-grey-lids/12d?productId=11006520'}\n",
      "[]\n",
      "[]\n",
      "\n",
      "{'dimensions': ['10\" sq. x 10\" h', '12\" sq. x 12\" h'],\n",
      " 'new dimensions': [[10.0, 10.0, 10.0], [12.0, 12.0, 12.0]],\n",
      " 'price': ['15.99', '19.99'],\n",
      " 'title': 'Ashcraft Storage Cubes with Handles',\n",
      " 'url': 'https://www.containerstore.com/s/storage/decorative-bins-baskets/ashcraft-storage-cubes-with-handles/12d?productId=11005637'}\n",
      "['10\" sq. x 10\" h', '12\" sq. x 12\" h']\n",
      "[[10.0, 10.0, 10.0], [12.0, 12.0, 12.0]]\n"
     ]
    }
   ],
   "source": [
    "for j in range (0,2):\n",
    "    print('')\n",
    "    pprint(data[j])\n",
    "    print(data[j]['dimensions'])\n",
    "    print(data[j]['new dimensions'])\n",
    "    "
   ]
  },
  {
   "cell_type": "markdown",
   "metadata": {},
   "source": [
    "The will_it_fit function will be given 6 values, 2 for each dimension (a lower and upper limit).  It will return the possible containers."
   ]
  },
  {
   "cell_type": "code",
   "execution_count": 25,
   "metadata": {
    "collapsed": true
   },
   "outputs": [],
   "source": [
    "def will_it_fit(f1a,f1b,f2a,f2b,f3a,f3b):\n",
    "\n",
    "    possibles = []\n",
    "    for j in range(0,len(data)):\n",
    "        num_of_containers  = len(data[j]['new dimensions'])\n",
    "        for k in range(0,num_of_containers):\n",
    "            if (len(data[j]['new dimensions'][k])==3):\n",
    "                \n",
    "                if ((f1a<data[j]['new dimensions'][k][0]<f1b) and (f2a<data[j]['new dimensions'][k][1]<f2b) \n",
    "                    and (f3a<data[j]['new dimensions'][k][2]<f3b)):\n",
    "\n",
    "                    possibles.append([data[j],k])\n",
    "\n",
    "    return possibles\n",
    "    "
   ]
  },
  {
   "cell_type": "markdown",
   "metadata": {},
   "source": [
    "The container that I am looking for should be in the range of 6-8.25\" x 9-12\" x 5-7\""
   ]
  },
  {
   "cell_type": "code",
   "execution_count": 26,
   "metadata": {},
   "outputs": [
    {
     "name": "stdout",
     "output_type": "stream",
     "text": [
      "There are 8 containers that will fit your space:\n",
      "\n",
      "\n",
      "Small Rectangular Hogla Storage Bin with Handles 7\" x 11\" x 5-1/4\" h\n",
      "$8.99\n",
      "https://www.containerstore.com/s/storage/decorative-bins-baskets/small-rectangular-hogla-storage-bin-with-handles/12d?productId=10035370\n",
      "\n",
      "Mondrian Storage Boxes with Lids 7\" x 10-5/8\" x 5-3/8\" h\n",
      "$6.99\n",
      "https://www.containerstore.com/s/storage/decorative-bins-baskets/mondrian-storage-boxes-with-lids/12d?productId=10036979\n",
      "\n",
      "Rectangular Hogla Storage Bin with Lid 7\" x 11\" x 5-1/4\" h\n",
      "$10.99\n",
      "https://www.containerstore.com/s/storage/decorative-bins-baskets/rectangular-hogla-storage-bin-with-lid/12d?productId=11003202\n",
      "\n",
      "Clear Handled Storage Baskets 6-1/4\" x 11\" x 5-1/8\" h\n",
      "$3.99\n",
      "https://www.containerstore.com/s/storage/plastic-bins-baskets/clear-handled-storage-baskets/12d?productId=10022155\n",
      "\n",
      "White Handled Storage Baskets 6-1/4\" x 11\" x 5-1/8\" h\n",
      "$3.99\n",
      "https://www.containerstore.com/s/storage/plastic-bins-baskets/white-handled-storage-baskets/12d?productId=10036528\n",
      "\n",
      "Blackwash Rattan Storage Bins with Handles 7-1/4\" x 11\" x 5-1/2\" h\n",
      "$19.99\n",
      "https://www.containerstore.com/s/storage/decorative-bins-baskets/blackwash-rattan-storage-bins-with-handles/12d?productId=10037634\n",
      "\n",
      "Linus Storage Binz 8\" x 11-1/4\" x 6\" h\n",
      "$16.99\n",
      "https://www.containerstore.com/s/storage/plastic-bins-baskets/linus-storage-binz/12d?productId=11000989\n",
      "\n",
      "Mondrian Storage Boxes with Lids 7\" x 10-5/8\" x 5-3/8\" h\n",
      "$6.99\n",
      "https://www.containerstore.com/s/storage/plastic-bins-baskets/mondrian-storage-boxes-with-lids/12d?productId=10036979\n"
     ]
    }
   ],
   "source": [
    "f1a = 6.\n",
    "f1b = 8.25\n",
    "f2a = 9.\n",
    "f2b = 12.\n",
    "f3a = 5.\n",
    "f3b = 7.\n",
    "\n",
    "# f1a = 12.\n",
    "# f1b = 15.\n",
    "# f2a = 12.\n",
    "# f2b = 15.\n",
    "# f3a = 12.\n",
    "# f3b = 15.\n",
    "\n",
    "\n",
    "possibles = will_it_fit(f1a,f1b,f2a,f2b,f3a,f3b)\n",
    "\n",
    "print('There are',len(possibles), 'containers that will fit your space:')\n",
    "print('')\n",
    "for c in possibles:\n",
    "    print('')\n",
    "    print(c[0]['title'],c[0]['dimensions'][c[1]])\n",
    "    print('$' + str(c[0]['price'][c[1]]))\n",
    "    print(c[0]['url'])\n",
    "\n",
    "\n",
    "    "
   ]
  },
  {
   "cell_type": "code",
   "execution_count": 27,
   "metadata": {},
   "outputs": [
    {
     "name": "stdout",
     "output_type": "stream",
     "text": [
      "https://www.containerstore.com/s/storage/decorative-bins-baskets/small-hogla-storage-basket-with-handles/12d?productId=11003201\n",
      "['9\" x 5-3/4\" x 4\" h']\n",
      "[[9.0, 5.75, 4.0]]\n",
      "['15\" x 11\" x 6-1/4\" h']\n",
      "[[15.0, 11.0, 6.25]]\n"
     ]
    }
   ],
   "source": [
    "print(data[25]['url'])\n",
    "print(data[25]['dimensions'])\n",
    "print(data[25]['new dimensions'])\n",
    "\n",
    "print(data[26]['dimensions'])\n",
    "print(data[26]['new dimensions'])\n",
    "# print(data[27]['dimensions'])\n",
    "# print(data[27]['new dimensions'])"
   ]
  },
  {
   "cell_type": "markdown",
   "metadata": {},
   "source": [
    "Some of the dimensions give only one or two dimensions.  These are accessories to other storage containers so they are excluded from the will_it_fit function that searches for containers by dimension."
   ]
  },
  {
   "cell_type": "code",
   "execution_count": 28,
   "metadata": {},
   "outputs": [
    {
     "name": "stdout",
     "output_type": "stream",
     "text": [
      "These are some results that are 1 or 2 dimensional divider accessories to containers.  These are excluded from container searches:\n",
      "\n",
      "\n",
      "White Wide AkroBin 10-7/8\"\n",
      "https://www.containerstore.com/s/storage/plastic-bins-baskets/white-wide-akrobin/12d?productId=11004565\n",
      "\n",
      "White Wide AkroBin 18\" x 19\"\n",
      "https://www.containerstore.com/s/storage/plastic-bins-baskets/white-wide-akrobin/12d?productId=11004565\n",
      "\n",
      "White Narrow AkroBins 18\" x 19\"\n",
      "https://www.containerstore.com/s/storage/plastic-bins-baskets/white-narrow-akrobins/12d?productId=11003416\n",
      "\n",
      "White Narrow AkroBins 10-7/8\"\n",
      "https://www.containerstore.com/s/storage/plastic-bins-baskets/white-narrow-akrobins/12d?productId=11003416\n",
      "\n",
      "White Medium AkroBins 14-3/4\"\n",
      "https://www.containerstore.com/s/storage/plastic-bins-baskets/white-medium-akrobins/12d?productId=11003417\n",
      "\n",
      "White Medium AkroBins 10-7/8\"\n",
      "https://www.containerstore.com/s/storage/plastic-bins-baskets/white-medium-akrobins/12d?productId=11003417\n",
      "\n",
      "White Medium AkroBins 18\" x 19\"\n",
      "https://www.containerstore.com/s/storage/plastic-bins-baskets/white-medium-akrobins/12d?productId=11003417\n",
      "\n",
      "White Extra Wide AkroBins 10-7/8\"\n",
      "https://www.containerstore.com/s/storage/plastic-bins-baskets/white-extra-wide-akrobins/12d?productId=11003418\n",
      "\n",
      "White Extra Wide AkroBins 18\" x 19\"\n",
      "https://www.containerstore.com/s/storage/plastic-bins-baskets/white-extra-wide-akrobins/12d?productId=11003418\n",
      "\n",
      "White Extra Narrow AkroBins 18\" x 19\"\n",
      "https://www.containerstore.com/s/storage/plastic-bins-baskets/white-extra-narrow-akrobins/12d?productId=11003143\n",
      "\n",
      "White Extra Narrow AkroBins 5-3/8\"\n",
      "https://www.containerstore.com/s/storage/plastic-bins-baskets/white-extra-narrow-akrobins/12d?productId=11003143\n",
      "\n",
      "White Extra Narrow AkroBins 7-3/8\"\n",
      "https://www.containerstore.com/s/storage/plastic-bins-baskets/white-extra-narrow-akrobins/12d?productId=11003143\n",
      "\n",
      "White Extra Narrow AkroBins 10-7/8\"\n",
      "https://www.containerstore.com/s/storage/plastic-bins-baskets/white-extra-narrow-akrobins/12d?productId=11003143\n"
     ]
    }
   ],
   "source": [
    "odd = []\n",
    "for j in range(0,len(data)):\n",
    "    num_of_containers  = len(data[j]['new dimensions'])\n",
    "    for k in range(0,num_of_containers):\n",
    "        if (len(data[j]['new dimensions'][k])!=3):\n",
    "\n",
    "            odd.append([data[j],k])\n",
    "    \n",
    "print('These are some results that are 1 or 2 dimensional divider accessories to containers.  These are excluded from container searches:')    \n",
    "print('')\n",
    "for o in odd:\n",
    "    print('')    \n",
    "    print(o[0]['title'],o[0]['dimensions'][o[1]])\n",
    "    print(o[0]['url'])"
   ]
  },
  {
   "cell_type": "code",
   "execution_count": null,
   "metadata": {
    "collapsed": true
   },
   "outputs": [],
   "source": [
    "\n"
   ]
  },
  {
   "cell_type": "code",
   "execution_count": null,
   "metadata": {
    "collapsed": true
   },
   "outputs": [],
   "source": []
  },
  {
   "cell_type": "code",
   "execution_count": null,
   "metadata": {
    "collapsed": true
   },
   "outputs": [],
   "source": []
  }
 ],
 "metadata": {
  "kernelspec": {
   "display_name": "Python 3",
   "language": "python",
   "name": "python3"
  },
  "language_info": {
   "codemirror_mode": {
    "name": "ipython",
    "version": 3
   },
   "file_extension": ".py",
   "mimetype": "text/x-python",
   "name": "python",
   "nbconvert_exporter": "python",
   "pygments_lexer": "ipython3",
   "version": "3.6.1"
  }
 },
 "nbformat": 4,
 "nbformat_minor": 2
}
